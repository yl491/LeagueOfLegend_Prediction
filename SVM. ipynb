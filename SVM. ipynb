{
 "cells": [
  {
   "cell_type": "markdown",
   "metadata": {},
   "source": [
    "CEE Final Project"
   ]
  },
  {
   "cell_type": "markdown",
   "metadata": {},
   "source": [
    "## SVM"
   ]
  },
  {
   "cell_type": "markdown",
   "metadata": {
    "collapsed": true
   },
   "source": [
    "Full Match"
   ]
  },
  {
   "cell_type": "code",
   "execution_count": 4,
   "metadata": {
    "collapsed": true
   },
   "outputs": [],
   "source": [
    "import pandas as pd\n",
    "import numpy as np\n",
    "import scipy\n",
    "from sklearn.model_selection import train_test_split"
   ]
  },
  {
   "cell_type": "code",
   "execution_count": 5,
   "metadata": {
    "collapsed": true
   },
   "outputs": [],
   "source": [
    "data_silver=pd.read_csv(\"Data_silver.csv\")\n",
    "data_gold=pd.read_csv(\"Data_gold.csv\")\n",
    "data_plat=pd.read_csv(\"Data_Plat.csv\")\n",
    "data_diamond=pd.read_csv(\"Data_diamond.csv\")"
   ]
  },
  {
   "cell_type": "code",
   "execution_count": 6,
   "metadata": {
    "collapsed": true
   },
   "outputs": [],
   "source": [
    "data=data_silver.append([data_gold,data_plat,data_diamond])\n",
    "X=np.array(data.values[:,7:],'double')\n",
    "Y=np.array(data.values[:,1],'double')"
   ]
  },
  {
   "cell_type": "code",
   "execution_count": 7,
   "metadata": {
    "collapsed": true
   },
   "outputs": [],
   "source": [
    "where_are_NaNs = np.isnan(X)\n",
    "X[where_are_NaNs] = 0\n",
    "\n",
    "Y[Y==100]=1\n",
    "Y[Y==200]=0"
   ]
  },
  {
   "cell_type": "code",
   "execution_count": 8,
   "metadata": {
    "collapsed": true
   },
   "outputs": [],
   "source": [
    "XX, X_TEST, YY, Y_TEST = train_test_split(X, Y, test_size=0.1, random_state=42)"
   ]
  },
  {
   "cell_type": "code",
   "execution_count": 9,
   "metadata": {
    "collapsed": false
   },
   "outputs": [],
   "source": [
    "from sklearn.preprocessing import StandardScaler,MinMaxScaler\n",
    "X_scaler=StandardScaler()\n",
    "X_scaler.fit(XX)\n",
    "XX_scaled=X_scaler.transform(XX)   \n",
    "X_TEST_scaled=X_scaler.transform(X_TEST)"
   ]
  },
  {
   "cell_type": "code",
   "execution_count": null,
   "metadata": {
    "collapsed": true
   },
   "outputs": [],
   "source": []
  },
  {
   "cell_type": "code",
   "execution_count": 10,
   "metadata": {
    "collapsed": true
   },
   "outputs": [],
   "source": [
    "from sklearn.svm import SVC\n",
    "# for SVM, we need to figure out gamma and C we need to use, \n",
    "# as well as the number of features we want to use and k-fold cross validation as usual\n",
    "# clf=SVC(kernel='rbf',gamma=2, C=1)"
   ]
  },
  {
   "cell_type": "code",
   "execution_count": 11,
   "metadata": {
    "collapsed": true
   },
   "outputs": [],
   "source": [
    "## seperator and the linear SVM separator\n",
    "import matplotlib\n",
    "import matplotlib.pyplot as plt"
   ]
  },
  {
   "cell_type": "code",
   "execution_count": 12,
   "metadata": {
    "collapsed": true
   },
   "outputs": [],
   "source": [
    "# import evaluation metrics\n",
    "from sklearn.metrics import roc_curve, auc\n",
    "# import the cross-validation structure\n",
    "from sklearn.model_selection import StratifiedKFold, train_test_split"
   ]
  },
  {
   "cell_type": "code",
   "execution_count": 33,
   "metadata": {
    "collapsed": false
   },
   "outputs": [],
   "source": [
    "from sklearn.model_selection import StratifiedKFold\n",
    "from sklearn.neighbors import KNeighborsClassifier\n",
    "from sklearn.feature_selection import SelectKBest\n",
    "\n",
    "## SVM\n",
    "skf = StratifiedKFold(n_splits=5)\n",
    "cv_training_auc =[]\n",
    "cv_test_auc =[] \n",
    "\n",
    "## cross_validation\n",
    "\n",
    "k = range(1, 40) \n",
    "gammas=np.arange(0.1,4.1,0.1)\n",
    "Cs=range(1,5)\n",
    "\n",
    "for train_index, test_index in skf.split(XX_scaled,YY):\n",
    "    X_train, X_test = XX_scaled[train_index], XX_scaled[test_index]\n",
    "    y_train, y_test = YY[train_index], YY[test_index]\n",
    "    training_auc_1 = []\n",
    "    test_auc_1 = []\n",
    "    for i in k:\n",
    "        # build the model\n",
    "        feature_selector=SelectKBest(k=i)\n",
    "        feature_selector.fit(X_train,y_train)\n",
    "        X_train_subset=feature_selector.transform(X_train)\n",
    "        X_test_subset=feature_selector.transform(X_test)\n",
    "        training_auc_k = []\n",
    "        test_auc_k = []\n",
    "        for g in gammas:\n",
    "            training_auc_gamma = []\n",
    "            test_auc_gamma = []\n",
    "            for c in Cs:\n",
    "                ## fitting\n",
    "                clf=SVC(kernel='rbf',gamma=g, C=c)\n",
    "                clf.fit(X_train_subset,y_train)\n",
    "                ## training\n",
    "                dec_stat=clf.decision_function(X_train_subset)\n",
    "                fpr, tpr, _ = roc_curve(y_train,dec_stat,pos_label=1)\n",
    "                roc_auc = auc(fpr, tpr)\n",
    "                training_auc_gamma.append(roc_auc)\n",
    "                ## testing\n",
    "                dec_stat=clf.decision_function(X_test_subset)\n",
    "                fpr, tpr, _ = roc_curve(y_test,dec_stat,pos_label=1)\n",
    "                roc_auc = auc(fpr, tpr)\n",
    "                test_auc_gamma.append(roc_auc)\n",
    "            training_auc_k.append(training_auc_gamma)\n",
    "            test_auc_k.append(test_auc_gamma)\n",
    "        training_auc_1.append(training_auc_k)\n",
    "        test_auc_1.append(test_auc_k)\n",
    "    cv_training_auc.append(training_auc_1)\n",
    "    cv_test_auc.append(test_auc_1)"
   ]
  },
  {
   "cell_type": "code",
   "execution_count": 48,
   "metadata": {
    "collapsed": true
   },
   "outputs": [],
   "source": [
    "avg_test_auc=np.mean(cv_test_auc,axis=0)\n",
    "avg_test_auc_k=np.mean(avg_test_auc,axis=1)\n",
    "avg_test_auc_n=np.mean(avg_test_auc_k,axis=1)"
   ]
  },
  {
   "cell_type": "code",
   "execution_count": 49,
   "metadata": {
    "collapsed": false
   },
   "outputs": [
    {
     "data": {
      "text/plain": [
       "array([ 0.98275362,  0.99007506,  0.99097843,  0.99239546,  0.99493888,\n",
       "        0.99581861,  0.99542091,  0.99506496,  0.99460084,  0.99394181,\n",
       "        0.99431695,  0.99357957,  0.99348245,  0.99307134,  0.99272535,\n",
       "        0.99268354,  0.99208265,  0.9914403 ,  0.99106887,  0.98994175,\n",
       "        0.98804845,  0.98534861,  0.98209536,  0.97769083,  0.97198058,\n",
       "        0.96454917,  0.9579338 ,  0.95343556,  0.9441093 ,  0.9332054 ,\n",
       "        0.91876604,  0.90542745,  0.89180672,  0.8799058 ,  0.86804263,\n",
       "        0.8561413 ,  0.84627458,  0.83833696,  0.82865174])"
      ]
     },
     "execution_count": 49,
     "metadata": {},
     "output_type": "execute_result"
    }
   ],
   "source": [
    "avg_test_auc_n  ##6 features"
   ]
  },
  {
   "cell_type": "code",
   "execution_count": 102,
   "metadata": {
    "collapsed": false
   },
   "outputs": [
    {
     "data": {
      "image/png": "[encoded data removed]",
      "text/plain": [
       "<matplotlib.figure.Figure at 0x7f3e7e8c1c88>"
      ]
     },
     "metadata": {},
     "output_type": "display_data"
    }
   ],
   "source": [
    "plt.plot(range(1,40),list(avg_test_auc_n), 'darkorange', label =\"Test AUC\",marker='o')\n",
    "plt.xlabel('Numbers of Features')\n",
    "plt.ylabel('Area Under Curve')\n",
    "plt.legend(loc=\"lower right\")\n",
    "plt.show()"
   ]
  },
  {
   "cell_type": "code",
   "execution_count": 52,
   "metadata": {
    "collapsed": false
   },
   "outputs": [
    {
     "data": {
      "text/plain": [
       "array([ 0.95653089,  0.95782597,  0.95780875,  0.95779661])"
      ]
     },
     "execution_count": 52,
     "metadata": {},
     "output_type": "execute_result"
    }
   ],
   "source": [
    "avg_test_auc=np.mean(cv_test_auc,axis=0)\n",
    "avg_test_auc_k=np.mean(avg_test_auc,axis=1)\n",
    "avg_test_auc_n=np.mean(avg_test_auc_k,axis=0)\n",
    "avg_test_auc_n  ## C=2"
   ]
  },
  {
   "cell_type": "code",
   "execution_count": 98,
   "metadata": {
    "collapsed": false
   },
   "outputs": [
    {
     "data": {
      "image/png": "[encoded data removed]",
      "text/plain": [
       "<matplotlib.figure.Figure at 0x7f3e7b1a30f0>"
      ]
     },
     "metadata": {},
     "output_type": "display_data"
    }
   ],
   "source": [
    "plt.plot(range(1,5),list(avg_test_auc_n), 'darkorange', label =\"Test AUC\",marker='o')\n",
    "plt.xlabel('The C value of SVM')\n",
    "plt.ylabel('Area Under Curve')\n",
    "plt.legend(loc=\"lower right\")\n",
    "plt.show()"
   ]
  },
  {
   "cell_type": "code",
   "execution_count": 55,
   "metadata": {
    "collapsed": false
   },
   "outputs": [
    {
     "data": {
      "text/plain": [
       "array([ 0.99748098,  0.9964683 ,  0.99558247,  0.9948309 ,  0.99399819,\n",
       "        0.99322863,  0.99254011,  0.99202126,  0.99155337,  0.99110078,\n",
       "        0.99067346,  0.99015532,  0.98958379,  0.98876317,  0.98768   ,\n",
       "        0.98630522,  0.98456463,  0.98236889,  0.97981421,  0.97652151,\n",
       "        0.97282839,  0.96888962,  0.96446909,  0.95964793,  0.95437614,\n",
       "        0.94903134,  0.943635  ,  0.93766077,  0.93186161,  0.9263261 ,\n",
       "        0.92108639,  0.91591719,  0.91058272,  0.90555003,  0.90104841,\n",
       "        0.89669176,  0.89234772,  0.88815699,  0.88409536,  0.88018441])"
      ]
     },
     "execution_count": 55,
     "metadata": {},
     "output_type": "execute_result"
    }
   ],
   "source": [
    "avg_test_auc=np.mean(cv_test_auc,axis=0)\n",
    "avg_test_auc_k=np.mean(avg_test_auc,axis=0)\n",
    "avg_test_auc_n=np.mean(avg_test_auc_k,axis=1)\n",
    "avg_test_auc_n  ##gamma=0.1"
   ]
  },
  {
   "cell_type": "code",
   "execution_count": 106,
   "metadata": {
    "collapsed": false
   },
   "outputs": [
    {
     "data": {
      "image/png": "[encoded data removed]",
      "text/plain": [
       "<matplotlib.figure.Figure at 0x7f3e7b1c0518>"
      ]
     },
     "metadata": {},
     "output_type": "display_data"
    }
   ],
   "source": [
    "plt.plot(range(1,41),list(avg_test_auc_n), 'darkorange', label =\"Test AUC\",marker='o')\n",
    "plt.xlabel('The gamma value of SVM')\n",
    "plt.ylabel('Area Under Curve')\n",
    "plt.legend(loc=\"lower right\")\n",
    "plt.show()"
   ]
  },
  {
   "cell_type": "markdown",
   "metadata": {},
   "source": [
    "The cross-validation results show that gamma=0.1, C=2, and features k=6\n"
   ]
  },
  {
   "cell_type": "code",
   "execution_count": 37,
   "metadata": {
    "collapsed": false
   },
   "outputs": [],
   "source": [
    "feature_selector=SelectKBest(k=6)\n",
    "feature_selector.fit(XX,YY)\n",
    "XX_subset=feature_selector.transform(XX)\n",
    "X_TEST_subset=feature_selector.transform(X_TEST)"
   ]
  },
  {
   "cell_type": "code",
   "execution_count": 38,
   "metadata": {
    "collapsed": true
   },
   "outputs": [],
   "source": [
    "from sklearn.model_selection import StratifiedKFold\n",
    "from sklearn.neighbors import KNeighborsClassifier\n",
    "from sklearn.feature_selection import SelectKBest"
   ]
  },
  {
   "cell_type": "code",
   "execution_count": 44,
   "metadata": {
    "collapsed": false
   },
   "outputs": [
    {
     "data": {
      "text/plain": [
       "SVC(C=2, cache_size=200, class_weight=None, coef0=0.0,\n",
       "  decision_function_shape=None, degree=3, gamma=0.1, kernel='rbf',\n",
       "  max_iter=-1, probability=False, random_state=None, shrinking=True,\n",
       "  tol=0.001, verbose=False)"
      ]
     },
     "execution_count": 44,
     "metadata": {},
     "output_type": "execute_result"
    }
   ],
   "source": [
    "## fitting\n",
    "clf=SVC(kernel='rbf',gamma=0.1, C=2)\n",
    "clf.fit(XX_subset,YY)"
   ]
  },
  {
   "cell_type": "code",
   "execution_count": 47,
   "metadata": {
    "collapsed": true
   },
   "outputs": [],
   "source": [
    "## testing\n",
    "dec_stat=clf.decision_function(X_TEST_subset)\n",
    "fpr, tpr, _ = roc_curve(Y_TEST,dec_stat,pos_label=1)\n",
    "roc_auc = auc(fpr, tpr)"
   ]
  },
  {
   "cell_type": "code",
   "execution_count": 48,
   "metadata": {
    "collapsed": false
   },
   "outputs": [
    {
     "data": {
      "text/plain": [
       "0.99614370468029012"
      ]
     },
     "execution_count": 48,
     "metadata": {},
     "output_type": "execute_result"
    }
   ],
   "source": [
    "roc_auc"
   ]
  },
  {
   "cell_type": "markdown",
   "metadata": {},
   "source": [
    "First 10 minutes"
   ]
  },
  {
   "cell_type": "code",
   "execution_count": 49,
   "metadata": {
    "collapsed": true
   },
   "outputs": [],
   "source": [
    "XX_10=XX[:,list(range(0,20))+list(range(58,63))]\n",
    "X_TEST_10=X_TEST[:,list(range(0,20))+list(range(58,63))]"
   ]
  },
  {
   "cell_type": "code",
   "execution_count": 50,
   "metadata": {
    "collapsed": true
   },
   "outputs": [],
   "source": [
    "from sklearn.preprocessing import StandardScaler,MinMaxScaler\n",
    "X_scaler=StandardScaler()\n",
    "X_scaler.fit(XX_10)\n",
    "XX_scaled_10=X_scaler.transform(XX_10)   \n",
    "X_TEST_scaled_10=X_scaler.transform(X_TEST_10)"
   ]
  },
  {
   "cell_type": "code",
   "execution_count": 51,
   "metadata": {
    "collapsed": true
   },
   "outputs": [],
   "source": [
    "from sklearn.model_selection import StratifiedKFold\n",
    "from sklearn.neighbors import KNeighborsClassifier\n",
    "from sklearn.feature_selection import SelectKBest\n",
    "\n",
    "## SVM\n",
    "skf = StratifiedKFold(n_splits=5)\n",
    "cv_training_auc =[]\n",
    "cv_test_auc =[] \n",
    "\n",
    "## cross_validation\n",
    "\n",
    "k = range(1, 40) \n",
    "gammas=np.arange(0.1,4.1,0.1)\n",
    "Cs=range(1,5)\n",
    "\n",
    "for train_index, test_index in skf.split(XX_scaled_10,YY):\n",
    "    X_train, X_test = XX_scaled_10[train_index], XX_scaled_10[test_index]\n",
    "    y_train, y_test = YY[train_index], YY[test_index]\n",
    "    training_auc_1 = []\n",
    "    test_auc_1 = []\n",
    "    for i in k:\n",
    "        # build the model\n",
    "        feature_selector=SelectKBest(k=i)\n",
    "        feature_selector.fit(X_train,y_train)\n",
    "        X_train_subset=feature_selector.transform(X_train)\n",
    "        X_test_subset=feature_selector.transform(X_test)\n",
    "        training_auc_k = []\n",
    "        test_auc_k = []\n",
    "        for g in gammas:\n",
    "            training_auc_gamma = []\n",
    "            test_auc_gamma = []\n",
    "            for c in Cs:\n",
    "                ## fitting\n",
    "                clf=SVC(kernel='rbf',gamma=g, C=c)\n",
    "                clf.fit(X_train_subset,y_train)\n",
    "                ## training\n",
    "                dec_stat=clf.decision_function(X_train_subset)\n",
    "                fpr, tpr, _ = roc_curve(y_train,dec_stat,pos_label=1)\n",
    "                roc_auc = auc(fpr, tpr)\n",
    "                training_auc_gamma.append(roc_auc)\n",
    "                ## testing\n",
    "                dec_stat=clf.decision_function(X_test_subset)\n",
    "                fpr, tpr, _ = roc_curve(y_test,dec_stat,pos_label=1)\n",
    "                roc_auc = auc(fpr, tpr)\n",
    "                test_auc_gamma.append(roc_auc)\n",
    "            training_auc_k.append(training_auc_gamma)\n",
    "            test_auc_k.append(test_auc_gamma)\n",
    "        training_auc_1.append(training_auc_k)\n",
    "        test_auc_1.append(test_auc_k)\n",
    "    cv_training_auc.append(training_auc_1)\n",
    "    cv_test_auc.append(test_auc_1)"
   ]
  },
  {
   "cell_type": "code",
   "execution_count": 52,
   "metadata": {
    "collapsed": true
   },
   "outputs": [],
   "source": [
    "avg_test_auc=np.mean(cv_test_auc,axis=0)\n",
    "avg_test_auc_k=np.mean(avg_test_auc,axis=1)\n",
    "avg_test_auc_n=np.mean(avg_test_auc_k,axis=1)"
   ]
  },
  {
   "cell_type": "code",
   "execution_count": 53,
   "metadata": {
    "collapsed": false
   },
   "outputs": [
    {
     "data": {
      "text/plain": [
       "array([ 0.64740696,  0.69987184,  0.71649593,  0.69619577,  0.69780344,\n",
       "        0.68934207,  0.69094083,  0.68766378,  0.68380193,  0.68489311,\n",
       "        0.68358798,  0.68140088,  0.67306024,  0.67647763,  0.67250945,\n",
       "        0.66757965,  0.66446033,  0.66472696,  0.67234893,  0.66031813,\n",
       "        0.65414712,  0.66055367,  0.65695493,  0.65351413])"
      ]
     },
     "execution_count": 53,
     "metadata": {},
     "output_type": "execute_result"
    }
   ],
   "source": [
    "avg_test_auc_n  ##3 features"
   ]
  },
  {
   "cell_type": "code",
   "execution_count": 113,
   "metadata": {
    "collapsed": false
   },
   "outputs": [
    {
     "data": {
      "image/png": "[encoded data removed]",
      "text/plain": [
       "<matplotlib.figure.Figure at 0x7f3e7af7fb00>"
      ]
     },
     "metadata": {},
     "output_type": "display_data"
    }
   ],
   "source": [
    "plt.plot(range(1,25),list(avg_test_auc_n), 'darkorange', label =\"Test AUC\",marker='o')\n",
    "plt.xlabel('Numbers of Features')\n",
    "plt.ylabel('Area Under Curve')\n",
    "plt.legend(loc=\"lower right\")\n",
    "plt.show()"
   ]
  },
  {
   "cell_type": "code",
   "execution_count": 55,
   "metadata": {
    "collapsed": false
   },
   "outputs": [
    {
     "data": {
      "text/plain": [
       "array([ 0.68288166,  0.67649457,  0.67405239,  0.67258067])"
      ]
     },
     "execution_count": 55,
     "metadata": {},
     "output_type": "execute_result"
    }
   ],
   "source": [
    "avg_test_auc=np.mean(cv_test_auc,axis=0)\n",
    "avg_test_auc_k=np.mean(avg_test_auc,axis=1)\n",
    "avg_test_auc_n=np.mean(avg_test_auc_k,axis=0)\n",
    "avg_test_auc_n  ## C=1"
   ]
  },
  {
   "cell_type": "code",
   "execution_count": 111,
   "metadata": {
    "collapsed": false
   },
   "outputs": [
    {
     "data": {
      "image/png": "[encoded data removed]",
      "text/plain": [
       "<matplotlib.figure.Figure at 0x7f3e7af4b588>"
      ]
     },
     "metadata": {},
     "output_type": "display_data"
    }
   ],
   "source": [
    "plt.plot(range(1,5),list(avg_test_auc_n), 'darkorange', label =\"Test AUC\",marker='o')\n",
    "plt.xlabel('the C value in SVM')\n",
    "plt.ylabel('Area Under Curve')\n",
    "plt.legend(loc=\"lower right\")\n",
    "plt.show()"
   ]
  },
  {
   "cell_type": "code",
   "execution_count": 60,
   "metadata": {
    "collapsed": false
   },
   "outputs": [
    {
     "data": {
      "text/plain": [
       "array([ 0.73211107,  0.7241444 ,  0.71868746,  0.71301541,  0.70743808,\n",
       "        0.70222817,  0.6974867 ,  0.69311812,  0.68921345,  0.68593546,\n",
       "        0.68316915,  0.68086464,  0.67878882,  0.67685547,  0.67540579,\n",
       "        0.67411841,  0.67285816,  0.67168922,  0.67074942,  0.6697645 ,\n",
       "        0.66870227,  0.66773379,  0.66695332,  0.66610938,  0.66544803,\n",
       "        0.66468621,  0.66394241,  0.66330442,  0.66280958,  0.66226894,\n",
       "        0.66153286,  0.66099219,  0.66048791,  0.65999289,  0.65930604,\n",
       "        0.65880463,  0.65828993,  0.65772856,  0.65701342,  0.65634418])"
      ]
     },
     "execution_count": 60,
     "metadata": {},
     "output_type": "execute_result"
    }
   ],
   "source": [
    "avg_test_auc=np.mean(cv_test_auc,axis=0)\n",
    "avg_test_auc_k=np.mean(avg_test_auc,axis=0)\n",
    "avg_test_auc_n=np.mean(avg_test_auc_k,axis=1)\n",
    "avg_test_auc_n  ##gamma=0.1"
   ]
  },
  {
   "cell_type": "code",
   "execution_count": 116,
   "metadata": {
    "collapsed": false
   },
   "outputs": [
    {
     "data": {
      "image/png": "[encoded data removed]",
      "text/plain": [
       "<matplotlib.figure.Figure at 0x7f3e7b0d6550>"
      ]
     },
     "metadata": {},
     "output_type": "display_data"
    }
   ],
   "source": [
    "plt.plot(range(1,41),list(avg_test_auc_n), 'darkorange', label =\"Test AUC\",marker='o')\n",
    "plt.xlabel('the gamma vlaue of SVM')\n",
    "plt.ylabel('Area Under Curve')\n",
    "plt.legend(loc=\"lower right\")\n",
    "plt.show()"
   ]
  },
  {
   "cell_type": "markdown",
   "metadata": {},
   "source": [
    "The cross-validation results show that gamma=0.1, C=1, and features k=3"
   ]
  },
  {
   "cell_type": "code",
   "execution_count": 66,
   "metadata": {
    "collapsed": true
   },
   "outputs": [],
   "source": [
    "feature_selector=SelectKBest(k=3)\n",
    "feature_selector.fit(XX_10,YY)\n",
    "XX_subset_10=feature_selector.transform(XX_10)\n",
    "X_TEST_subset_10=feature_selector.transform(X_TEST_10)"
   ]
  },
  {
   "cell_type": "code",
   "execution_count": 67,
   "metadata": {
    "collapsed": false
   },
   "outputs": [
    {
     "data": {
      "text/plain": [
       "SVC(C=1, cache_size=200, class_weight=None, coef0=0.0,\n",
       "  decision_function_shape=None, degree=3, gamma=0.1, kernel='rbf',\n",
       "  max_iter=-1, probability=False, random_state=None, shrinking=True,\n",
       "  tol=0.001, verbose=False)"
      ]
     },
     "execution_count": 67,
     "metadata": {},
     "output_type": "execute_result"
    }
   ],
   "source": [
    "## fitting\n",
    "clf=SVC(kernel='rbf',gamma=0.1, C=1)\n",
    "clf.fit(XX_subset_10,YY)"
   ]
  },
  {
   "cell_type": "code",
   "execution_count": 70,
   "metadata": {
    "collapsed": true
   },
   "outputs": [],
   "source": [
    "## testing\n",
    "dec_stat=clf.decision_function(X_TEST_subset_10)\n",
    "fpr, tpr, _ = roc_curve(Y_TEST,dec_stat,pos_label=1)\n",
    "roc_auc = auc(fpr, tpr)"
   ]
  },
  {
   "cell_type": "code",
   "execution_count": 71,
   "metadata": {
    "collapsed": false
   },
   "outputs": [
    {
     "data": {
      "text/plain": [
       "0.63328938694792347"
      ]
     },
     "execution_count": 71,
     "metadata": {},
     "output_type": "execute_result"
    }
   ],
   "source": [
    "roc_auc"
   ]
  },
  {
   "cell_type": "markdown",
   "metadata": {},
   "source": [
    "Pre-Match Data"
   ]
  },
  {
   "cell_type": "code",
   "execution_count": 74,
   "metadata": {
    "collapsed": false
   },
   "outputs": [],
   "source": [
    "XX_prematch=XX[:,58:63]\n",
    "X_TEST_prematch=X_TEST[:,58:63]"
   ]
  },
  {
   "cell_type": "code",
   "execution_count": 75,
   "metadata": {
    "collapsed": true
   },
   "outputs": [],
   "source": [
    "from sklearn.preprocessing import StandardScaler,MinMaxScaler\n",
    "X_scaler=StandardScaler()\n",
    "X_scaler.fit(XX_prematch)\n",
    "XX_scaled_prematch=X_scaler.transform(XX_prematch)   \n",
    "X_TEST_scaled=X_scaler.transform(X_TEST_prematch)"
   ]
  },
  {
   "cell_type": "code",
   "execution_count": 76,
   "metadata": {
    "collapsed": true
   },
   "outputs": [],
   "source": [
    "from sklearn.svm import SVC\n",
    "# for SVM, we need to figure out gamma and C we need to use, \n",
    "# as well as the number of features we want to use and k-fold cross validation as usual\n",
    "# clf=SVC(kernel='rbf',gamma=2, C=1)"
   ]
  },
  {
   "cell_type": "code",
   "execution_count": 85,
   "metadata": {
    "collapsed": false
   },
   "outputs": [
    {
     "data": {
      "text/plain": [
       "array([ 0.5179392 ,  0.53429451,  0.55988711,  0.57295258,  0.56635567])"
      ]
     },
     "execution_count": 85,
     "metadata": {},
     "output_type": "execute_result"
    }
   ],
   "source": [
    "avg_test_auc=np.mean(cv_test_auc,axis=0)\n",
    "avg_test_auc_k=np.mean(avg_test_auc,axis=1)\n",
    "avg_test_auc_n=np.mean(avg_test_auc_k,axis=1)\n",
    "avg_test_auc_n "
   ]
  },
  {
   "cell_type": "code",
   "execution_count": 119,
   "metadata": {
    "collapsed": false
   },
   "outputs": [
    {
     "data": {
      "image/png": "[encoded data removed]",
      "text/plain": [
       "<matplotlib.figure.Figure at 0x7f3e7af2b8d0>"
      ]
     },
     "metadata": {},
     "output_type": "display_data"
    }
   ],
   "source": [
    "plt.plot(range(1,6),list(avg_test_auc_n), 'darkorange', label =\"Test AUC\",marker='o')\n",
    "plt.xlabel('Numbers of Features')\n",
    "plt.ylabel('Area Under Curve')\n",
    "plt.legend(loc=\"lower right\")\n",
    "plt.show()  ##4 features"
   ]
  },
  {
   "cell_type": "code",
   "execution_count": 83,
   "metadata": {
    "collapsed": false
   },
   "outputs": [
    {
     "data": {
      "text/plain": [
       "array([ 0.55044622,  0.55366404,  0.55177157,  0.55227266,  0.55339791,\n",
       "        0.55142708,  0.55125786,  0.55177926,  0.55202293,  0.55154471,\n",
       "        0.54944219,  0.55024491,  0.5494987 ,  0.54889721,  0.54962413,\n",
       "        0.54804763,  0.54758335,  0.54817305,  0.54805183,  0.54656907])"
      ]
     },
     "execution_count": 83,
     "metadata": {},
     "output_type": "execute_result"
    }
   ],
   "source": [
    "avg_test_auc=np.mean(cv_test_auc,axis=0)\n",
    "avg_test_auc_k=np.mean(avg_test_auc,axis=0)\n",
    "avg_test_auc_n=np.mean(avg_test_auc_k,axis=1)\n",
    "avg_test_auc_n  ##gamma=0.2"
   ]
  },
  {
   "cell_type": "code",
   "execution_count": 121,
   "metadata": {
    "collapsed": false
   },
   "outputs": [
    {
     "data": {
      "image/png": "[encoded data removed]",
      "text/plain": [
       "<matplotlib.figure.Figure at 0x7f3e7b17fac8>"
      ]
     },
     "metadata": {},
     "output_type": "display_data"
    }
   ],
   "source": [
    "plt.plot(range(1,21),list(avg_test_auc_n), 'darkorange', label =\"Test AUC\",marker=\"o\")\n",
    "plt.xlabel('the gamma vlaue of SVM')\n",
    "plt.ylabel('Area Under Curve')\n",
    "plt.legend(loc=\"lower right\")\n",
    "plt.show()"
   ]
  },
  {
   "cell_type": "code",
   "execution_count": 87,
   "metadata": {
    "collapsed": false
   },
   "outputs": [
    {
     "data": {
      "text/plain": [
       "array([ 0.55391065,  0.55047344,  0.54902655,  0.54773261])"
      ]
     },
     "execution_count": 87,
     "metadata": {},
     "output_type": "execute_result"
    }
   ],
   "source": [
    "avg_test_auc=np.mean(cv_test_auc,axis=0)\n",
    "avg_test_auc_k=np.mean(avg_test_auc,axis=1)\n",
    "avg_test_auc_n=np.mean(avg_test_auc_k,axis=0)\n",
    "avg_test_auc_n  ## C=1"
   ]
  },
  {
   "cell_type": "code",
   "execution_count": 123,
   "metadata": {
    "collapsed": false
   },
   "outputs": [
    {
     "data": {
      "image/png": "[encoded data removed]",
      "text/plain": [
       "<matplotlib.figure.Figure at 0x7f3e7b08e9b0>"
      ]
     },
     "metadata": {},
     "output_type": "display_data"
    }
   ],
   "source": [
    "plt.plot(range(1,5),list(avg_test_auc_n), 'darkorange', label =\"Test AUC\",marker='o')\n",
    "plt.xlabel('the C vlaue of SVM')\n",
    "plt.ylabel('Area Under Curve')\n",
    "plt.legend(loc=\"lower right\")\n",
    "plt.show()\n"
   ]
  },
  {
   "cell_type": "markdown",
   "metadata": {},
   "source": [
    "The cross-validation results show that gamma=0.2, C=1, and features k=4"
   ]
  },
  {
   "cell_type": "code",
   "execution_count": 91,
   "metadata": {
    "collapsed": false
   },
   "outputs": [
    {
     "data": {
      "text/plain": [
       "0.55436717205009889"
      ]
     },
     "execution_count": 91,
     "metadata": {},
     "output_type": "execute_result"
    }
   ],
   "source": [
    "feature_selector=SelectKBest(k=4)\n",
    "feature_selector.fit(XX_prematch,YY)\n",
    "XX_subset_prematch=feature_selector.transform(XX_prematch)\n",
    "X_TEST_subset_prematch=feature_selector.transform(X_TEST_prematch)\n",
    "\n",
    "## fitting\n",
    "clf=SVC(kernel='rbf',gamma=0.2, C=1)\n",
    "clf.fit(XX_subset_prematch,YY)\n",
    "\n",
    "## testing\n",
    "dec_stat=clf.decision_function(X_TEST_subset_prematch)\n",
    "fpr, tpr, _ = roc_curve(Y_TEST,dec_stat,pos_label=1)\n",
    "roc_auc = auc(fpr, tpr)\n",
    "\n",
    "roc_auc"
   ]
  },
  {
   "cell_type": "code",
   "execution_count": null,
   "metadata": {
    "collapsed": true
   },
   "outputs": [],
   "source": [
    "!pip install xgboost\n",
    "\n"
   ]
  }
 ],
 "metadata": {
  "kernelspec": {
   "display_name": "Python 3",
   "language": "python",
   "name": "python3"
  },
  "language_info": {
   "codemirror_mode": {
    "name": "ipython",
    "version": 3
   },
   "file_extension": ".py",
   "mimetype": "text/x-python",
   "name": "python",
   "nbconvert_exporter": "python",
   "pygments_lexer": "ipython3",
   "version": "3.5.2"
  }
 },
 "nbformat": 4,
 "nbformat_minor": 2
}
