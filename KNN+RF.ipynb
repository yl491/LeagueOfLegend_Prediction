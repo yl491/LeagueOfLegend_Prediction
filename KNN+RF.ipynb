{
 "cells": [
  {
   "cell_type": "markdown",
   "metadata": {},
   "source": [
    "# Predicting Winner of a LOL Match at Different Time Points"
   ]
  },
  {
   "cell_type": "markdown",
   "metadata": {},
   "source": [
    "### CEE 690-03 Final Project  Yunxuan Li, Jie Chen"
   ]
  },
  {
   "cell_type": "code",
   "execution_count": 23,
   "metadata": {
    "collapsed": true
   },
   "outputs": [],
   "source": [
    "import pandas as pd\n",
    "import numpy as np\n",
    "import scipy\n",
    "from sklearn.model_selection import train_test_split\n",
    "import matplotlib.pyplot as plt"
   ]
  },
  {
   "cell_type": "markdown",
   "metadata": {},
   "source": [
    "First, we import data that has been collected and preprocessed in RStudio."
   ]
  },
  {
   "cell_type": "code",
   "execution_count": 13,
   "metadata": {
    "collapsed": false
   },
   "outputs": [],
   "source": [
    "data_silver=pd.read_csv(\"Data_silver.csv\")\n",
    "data_gold=pd.read_csv(\"Data_gold.csv\")\n",
    "data_plat=pd.read_csv(\"Data_Plat.csv\")\n",
    "data_diamond=pd.read_csv(\"Data_diamond.csv\")"
   ]
  },
  {
   "cell_type": "markdown",
   "metadata": {},
   "source": [
    "We then merge them into one dataframe."
   ]
  },
  {
   "cell_type": "code",
   "execution_count": 67,
   "metadata": {
    "collapsed": false
   },
   "outputs": [],
   "source": [
    "data=data_silver.append([data_gold,data_plat,data_diamond])\n",
    "X=np.array(data.values[:,7:],'double')\n",
    "Y=np.array(data.values[:,1],'double')"
   ]
  },
  {
   "cell_type": "code",
   "execution_count": 284,
   "metadata": {
    "collapsed": false
   },
   "outputs": [
    {
     "data": {
      "text/html": [
       "<div>\n",
       "<table border=\"1\" class=\"dataframe\">\n",
       "  <thead>\n",
       "    <tr style=\"text-align: right;\">\n",
       "      <th></th>\n",
       "      <th>Unnamed: 0</th>\n",
       "      <th>Result</th>\n",
       "      <th>MasteryDif_Top</th>\n",
       "      <th>MasteryDif_Jg</th>\n",
       "      <th>MasteryDif_Mid</th>\n",
       "      <th>MasteryDif_ADC</th>\n",
       "      <th>MasteryDif_Sup</th>\n",
       "      <th>Gold10Dif_Top</th>\n",
       "      <th>Gold10Dif_Jg</th>\n",
       "      <th>Gold10Dif_Mid</th>\n",
       "      <th>...</th>\n",
       "      <th>CS_A</th>\n",
       "      <th>CS_S</th>\n",
       "      <th>TowerDif</th>\n",
       "      <th>Drags</th>\n",
       "      <th>Baron</th>\n",
       "      <th>Rank_Top</th>\n",
       "      <th>Rank_Jg</th>\n",
       "      <th>Rank_Mid</th>\n",
       "      <th>Rank_ADC</th>\n",
       "      <th>Rank_Sup</th>\n",
       "    </tr>\n",
       "  </thead>\n",
       "  <tbody>\n",
       "    <tr>\n",
       "      <th>0</th>\n",
       "      <td>1</td>\n",
       "      <td>100</td>\n",
       "      <td>0</td>\n",
       "      <td>0</td>\n",
       "      <td>0</td>\n",
       "      <td>0</td>\n",
       "      <td>0</td>\n",
       "      <td>98.3</td>\n",
       "      <td>-33.4</td>\n",
       "      <td>-16.5</td>\n",
       "      <td>...</td>\n",
       "      <td>25.0</td>\n",
       "      <td>116.0</td>\n",
       "      <td>8</td>\n",
       "      <td>1</td>\n",
       "      <td>0</td>\n",
       "      <td>-350</td>\n",
       "      <td>-600</td>\n",
       "      <td>950</td>\n",
       "      <td>650.0</td>\n",
       "      <td>-650.0</td>\n",
       "    </tr>\n",
       "    <tr>\n",
       "      <th>1</th>\n",
       "      <td>2</td>\n",
       "      <td>100</td>\n",
       "      <td>0</td>\n",
       "      <td>0</td>\n",
       "      <td>0</td>\n",
       "      <td>0</td>\n",
       "      <td>0</td>\n",
       "      <td>16.0</td>\n",
       "      <td>-26.7</td>\n",
       "      <td>-66.8</td>\n",
       "      <td>...</td>\n",
       "      <td>17.0</td>\n",
       "      <td>-6.0</td>\n",
       "      <td>5</td>\n",
       "      <td>2</td>\n",
       "      <td>1</td>\n",
       "      <td>-350</td>\n",
       "      <td>-650</td>\n",
       "      <td>0</td>\n",
       "      <td>0.0</td>\n",
       "      <td>-650.0</td>\n",
       "    </tr>\n",
       "    <tr>\n",
       "      <th>2</th>\n",
       "      <td>3</td>\n",
       "      <td>200</td>\n",
       "      <td>0</td>\n",
       "      <td>0</td>\n",
       "      <td>0</td>\n",
       "      <td>0</td>\n",
       "      <td>0</td>\n",
       "      <td>-4.7</td>\n",
       "      <td>85.4</td>\n",
       "      <td>77.6</td>\n",
       "      <td>...</td>\n",
       "      <td>5.0</td>\n",
       "      <td>31.0</td>\n",
       "      <td>-4</td>\n",
       "      <td>-2</td>\n",
       "      <td>-1</td>\n",
       "      <td>-350</td>\n",
       "      <td>0</td>\n",
       "      <td>-300</td>\n",
       "      <td>-650.0</td>\n",
       "      <td>650.0</td>\n",
       "    </tr>\n",
       "    <tr>\n",
       "      <th>3</th>\n",
       "      <td>4</td>\n",
       "      <td>200</td>\n",
       "      <td>0</td>\n",
       "      <td>0</td>\n",
       "      <td>0</td>\n",
       "      <td>0</td>\n",
       "      <td>0</td>\n",
       "      <td>115.4</td>\n",
       "      <td>-59.7</td>\n",
       "      <td>-31.1</td>\n",
       "      <td>...</td>\n",
       "      <td>28.0</td>\n",
       "      <td>-3.0</td>\n",
       "      <td>-4</td>\n",
       "      <td>0</td>\n",
       "      <td>-1</td>\n",
       "      <td>300</td>\n",
       "      <td>0</td>\n",
       "      <td>650</td>\n",
       "      <td>0.0</td>\n",
       "      <td>-300.0</td>\n",
       "    </tr>\n",
       "    <tr>\n",
       "      <th>4</th>\n",
       "      <td>5</td>\n",
       "      <td>200</td>\n",
       "      <td>0</td>\n",
       "      <td>0</td>\n",
       "      <td>0</td>\n",
       "      <td>0</td>\n",
       "      <td>0</td>\n",
       "      <td>0.7</td>\n",
       "      <td>43.7</td>\n",
       "      <td>56.3</td>\n",
       "      <td>...</td>\n",
       "      <td>-8.0</td>\n",
       "      <td>4.0</td>\n",
       "      <td>-4</td>\n",
       "      <td>-4</td>\n",
       "      <td>0</td>\n",
       "      <td>-950</td>\n",
       "      <td>-300</td>\n",
       "      <td>300</td>\n",
       "      <td>-600.0</td>\n",
       "      <td>-300.0</td>\n",
       "    </tr>\n",
       "    <tr>\n",
       "      <th>5</th>\n",
       "      <td>6</td>\n",
       "      <td>100</td>\n",
       "      <td>0</td>\n",
       "      <td>0</td>\n",
       "      <td>0</td>\n",
       "      <td>0</td>\n",
       "      <td>0</td>\n",
       "      <td>38.7</td>\n",
       "      <td>0.8</td>\n",
       "      <td>86.4</td>\n",
       "      <td>...</td>\n",
       "      <td>0.0</td>\n",
       "      <td>0.0</td>\n",
       "      <td>8</td>\n",
       "      <td>2</td>\n",
       "      <td>1</td>\n",
       "      <td>-350</td>\n",
       "      <td>350</td>\n",
       "      <td>-650</td>\n",
       "      <td>0.0</td>\n",
       "      <td>0.0</td>\n",
       "    </tr>\n",
       "    <tr>\n",
       "      <th>6</th>\n",
       "      <td>8</td>\n",
       "      <td>200</td>\n",
       "      <td>0</td>\n",
       "      <td>0</td>\n",
       "      <td>0</td>\n",
       "      <td>0</td>\n",
       "      <td>0</td>\n",
       "      <td>-22.9</td>\n",
       "      <td>-104.1</td>\n",
       "      <td>-16.1</td>\n",
       "      <td>...</td>\n",
       "      <td>-68.0</td>\n",
       "      <td>-7.0</td>\n",
       "      <td>-7</td>\n",
       "      <td>-2</td>\n",
       "      <td>-1</td>\n",
       "      <td>650</td>\n",
       "      <td>0</td>\n",
       "      <td>0</td>\n",
       "      <td>0.0</td>\n",
       "      <td>300.0</td>\n",
       "    </tr>\n",
       "    <tr>\n",
       "      <th>7</th>\n",
       "      <td>10</td>\n",
       "      <td>100</td>\n",
       "      <td>0</td>\n",
       "      <td>0</td>\n",
       "      <td>0</td>\n",
       "      <td>0</td>\n",
       "      <td>0</td>\n",
       "      <td>98.6</td>\n",
       "      <td>56.8</td>\n",
       "      <td>115.4</td>\n",
       "      <td>...</td>\n",
       "      <td>-49.0</td>\n",
       "      <td>-32.0</td>\n",
       "      <td>4</td>\n",
       "      <td>3</td>\n",
       "      <td>2</td>\n",
       "      <td>-600</td>\n",
       "      <td>0</td>\n",
       "      <td>0</td>\n",
       "      <td>0.0</td>\n",
       "      <td>0.0</td>\n",
       "    </tr>\n",
       "    <tr>\n",
       "      <th>8</th>\n",
       "      <td>11</td>\n",
       "      <td>200</td>\n",
       "      <td>0</td>\n",
       "      <td>0</td>\n",
       "      <td>0</td>\n",
       "      <td>0</td>\n",
       "      <td>0</td>\n",
       "      <td>43.2</td>\n",
       "      <td>-8.5</td>\n",
       "      <td>-86.7</td>\n",
       "      <td>...</td>\n",
       "      <td>-5.0</td>\n",
       "      <td>-12.0</td>\n",
       "      <td>-5</td>\n",
       "      <td>-4</td>\n",
       "      <td>-1</td>\n",
       "      <td>0</td>\n",
       "      <td>-300</td>\n",
       "      <td>-650</td>\n",
       "      <td>-350.0</td>\n",
       "      <td>650.0</td>\n",
       "    </tr>\n",
       "    <tr>\n",
       "      <th>9</th>\n",
       "      <td>13</td>\n",
       "      <td>100</td>\n",
       "      <td>0</td>\n",
       "      <td>0</td>\n",
       "      <td>0</td>\n",
       "      <td>0</td>\n",
       "      <td>0</td>\n",
       "      <td>91.7</td>\n",
       "      <td>3.7</td>\n",
       "      <td>39.6</td>\n",
       "      <td>...</td>\n",
       "      <td>-27.0</td>\n",
       "      <td>30.0</td>\n",
       "      <td>8</td>\n",
       "      <td>0</td>\n",
       "      <td>2</td>\n",
       "      <td>650</td>\n",
       "      <td>0</td>\n",
       "      <td>-300</td>\n",
       "      <td>650.0</td>\n",
       "      <td>-650.0</td>\n",
       "    </tr>\n",
       "    <tr>\n",
       "      <th>10</th>\n",
       "      <td>14</td>\n",
       "      <td>200</td>\n",
       "      <td>0</td>\n",
       "      <td>0</td>\n",
       "      <td>0</td>\n",
       "      <td>0</td>\n",
       "      <td>0</td>\n",
       "      <td>128.4</td>\n",
       "      <td>-13.9</td>\n",
       "      <td>-50.1</td>\n",
       "      <td>...</td>\n",
       "      <td>-78.0</td>\n",
       "      <td>-37.0</td>\n",
       "      <td>-5</td>\n",
       "      <td>-3</td>\n",
       "      <td>-1</td>\n",
       "      <td>650</td>\n",
       "      <td>300</td>\n",
       "      <td>-300</td>\n",
       "      <td>0.0</td>\n",
       "      <td>-350.0</td>\n",
       "    </tr>\n",
       "    <tr>\n",
       "      <th>11</th>\n",
       "      <td>15</td>\n",
       "      <td>200</td>\n",
       "      <td>0</td>\n",
       "      <td>0</td>\n",
       "      <td>0</td>\n",
       "      <td>0</td>\n",
       "      <td>0</td>\n",
       "      <td>-138.0</td>\n",
       "      <td>-66.1</td>\n",
       "      <td>1.8</td>\n",
       "      <td>...</td>\n",
       "      <td>-44.0</td>\n",
       "      <td>-2.0</td>\n",
       "      <td>-9</td>\n",
       "      <td>0</td>\n",
       "      <td>-1</td>\n",
       "      <td>0</td>\n",
       "      <td>300</td>\n",
       "      <td>-300</td>\n",
       "      <td>300.0</td>\n",
       "      <td>0.0</td>\n",
       "    </tr>\n",
       "    <tr>\n",
       "      <th>12</th>\n",
       "      <td>16</td>\n",
       "      <td>100</td>\n",
       "      <td>0</td>\n",
       "      <td>0</td>\n",
       "      <td>0</td>\n",
       "      <td>0</td>\n",
       "      <td>0</td>\n",
       "      <td>57.3</td>\n",
       "      <td>210.8</td>\n",
       "      <td>-30.8</td>\n",
       "      <td>...</td>\n",
       "      <td>91.0</td>\n",
       "      <td>16.0</td>\n",
       "      <td>8</td>\n",
       "      <td>2</td>\n",
       "      <td>2</td>\n",
       "      <td>-950</td>\n",
       "      <td>0</td>\n",
       "      <td>650</td>\n",
       "      <td>0.0</td>\n",
       "      <td>-950.0</td>\n",
       "    </tr>\n",
       "    <tr>\n",
       "      <th>13</th>\n",
       "      <td>18</td>\n",
       "      <td>200</td>\n",
       "      <td>0</td>\n",
       "      <td>0</td>\n",
       "      <td>0</td>\n",
       "      <td>0</td>\n",
       "      <td>0</td>\n",
       "      <td>-85.5</td>\n",
       "      <td>-41.7</td>\n",
       "      <td>-11.3</td>\n",
       "      <td>...</td>\n",
       "      <td>-4.0</td>\n",
       "      <td>25.0</td>\n",
       "      <td>-4</td>\n",
       "      <td>-2</td>\n",
       "      <td>-1</td>\n",
       "      <td>0</td>\n",
       "      <td>-650</td>\n",
       "      <td>-300</td>\n",
       "      <td>-650.0</td>\n",
       "      <td>-300.0</td>\n",
       "    </tr>\n",
       "    <tr>\n",
       "      <th>14</th>\n",
       "      <td>19</td>\n",
       "      <td>200</td>\n",
       "      <td>0</td>\n",
       "      <td>0</td>\n",
       "      <td>0</td>\n",
       "      <td>0</td>\n",
       "      <td>0</td>\n",
       "      <td>77.2</td>\n",
       "      <td>-41.5</td>\n",
       "      <td>-59.8</td>\n",
       "      <td>...</td>\n",
       "      <td>-44.0</td>\n",
       "      <td>-24.0</td>\n",
       "      <td>-9</td>\n",
       "      <td>-2</td>\n",
       "      <td>-1</td>\n",
       "      <td>650</td>\n",
       "      <td>-300</td>\n",
       "      <td>0</td>\n",
       "      <td>0.0</td>\n",
       "      <td>0.0</td>\n",
       "    </tr>\n",
       "    <tr>\n",
       "      <th>15</th>\n",
       "      <td>20</td>\n",
       "      <td>200</td>\n",
       "      <td>0</td>\n",
       "      <td>0</td>\n",
       "      <td>0</td>\n",
       "      <td>0</td>\n",
       "      <td>0</td>\n",
       "      <td>-12.6</td>\n",
       "      <td>-55.1</td>\n",
       "      <td>-84.4</td>\n",
       "      <td>...</td>\n",
       "      <td>44.0</td>\n",
       "      <td>265.0</td>\n",
       "      <td>-1</td>\n",
       "      <td>0</td>\n",
       "      <td>-2</td>\n",
       "      <td>-300</td>\n",
       "      <td>-300</td>\n",
       "      <td>-300</td>\n",
       "      <td>650.0</td>\n",
       "      <td>-950.0</td>\n",
       "    </tr>\n",
       "    <tr>\n",
       "      <th>16</th>\n",
       "      <td>21</td>\n",
       "      <td>100</td>\n",
       "      <td>0</td>\n",
       "      <td>0</td>\n",
       "      <td>0</td>\n",
       "      <td>0</td>\n",
       "      <td>0</td>\n",
       "      <td>44.8</td>\n",
       "      <td>130.6</td>\n",
       "      <td>-88.4</td>\n",
       "      <td>...</td>\n",
       "      <td>28.0</td>\n",
       "      <td>14.0</td>\n",
       "      <td>8</td>\n",
       "      <td>1</td>\n",
       "      <td>1</td>\n",
       "      <td>0</td>\n",
       "      <td>-300</td>\n",
       "      <td>300</td>\n",
       "      <td>0.0</td>\n",
       "      <td>0.0</td>\n",
       "    </tr>\n",
       "    <tr>\n",
       "      <th>17</th>\n",
       "      <td>22</td>\n",
       "      <td>200</td>\n",
       "      <td>0</td>\n",
       "      <td>0</td>\n",
       "      <td>0</td>\n",
       "      <td>0</td>\n",
       "      <td>0</td>\n",
       "      <td>24.0</td>\n",
       "      <td>17.1</td>\n",
       "      <td>86.8</td>\n",
       "      <td>...</td>\n",
       "      <td>54.0</td>\n",
       "      <td>46.0</td>\n",
       "      <td>0</td>\n",
       "      <td>1</td>\n",
       "      <td>-2</td>\n",
       "      <td>-950</td>\n",
       "      <td>0</td>\n",
       "      <td>0</td>\n",
       "      <td>-650.0</td>\n",
       "      <td>-650.0</td>\n",
       "    </tr>\n",
       "    <tr>\n",
       "      <th>18</th>\n",
       "      <td>23</td>\n",
       "      <td>100</td>\n",
       "      <td>0</td>\n",
       "      <td>0</td>\n",
       "      <td>0</td>\n",
       "      <td>0</td>\n",
       "      <td>0</td>\n",
       "      <td>188.1</td>\n",
       "      <td>-75.9</td>\n",
       "      <td>-7.4</td>\n",
       "      <td>...</td>\n",
       "      <td>38.0</td>\n",
       "      <td>15.0</td>\n",
       "      <td>9</td>\n",
       "      <td>3</td>\n",
       "      <td>-1</td>\n",
       "      <td>0</td>\n",
       "      <td>0</td>\n",
       "      <td>0</td>\n",
       "      <td>350.0</td>\n",
       "      <td>-600.0</td>\n",
       "    </tr>\n",
       "    <tr>\n",
       "      <th>19</th>\n",
       "      <td>24</td>\n",
       "      <td>100</td>\n",
       "      <td>0</td>\n",
       "      <td>0</td>\n",
       "      <td>0</td>\n",
       "      <td>0</td>\n",
       "      <td>0</td>\n",
       "      <td>-47.9</td>\n",
       "      <td>15.1</td>\n",
       "      <td>-58.7</td>\n",
       "      <td>...</td>\n",
       "      <td>-10.0</td>\n",
       "      <td>10.0</td>\n",
       "      <td>5</td>\n",
       "      <td>3</td>\n",
       "      <td>-1</td>\n",
       "      <td>350</td>\n",
       "      <td>-350</td>\n",
       "      <td>350</td>\n",
       "      <td>650.0</td>\n",
       "      <td>-350.0</td>\n",
       "    </tr>\n",
       "    <tr>\n",
       "      <th>20</th>\n",
       "      <td>26</td>\n",
       "      <td>100</td>\n",
       "      <td>0</td>\n",
       "      <td>0</td>\n",
       "      <td>0</td>\n",
       "      <td>0</td>\n",
       "      <td>0</td>\n",
       "      <td>-41.1</td>\n",
       "      <td>98.8</td>\n",
       "      <td>36.3</td>\n",
       "      <td>...</td>\n",
       "      <td>27.0</td>\n",
       "      <td>41.0</td>\n",
       "      <td>2</td>\n",
       "      <td>1</td>\n",
       "      <td>0</td>\n",
       "      <td>300</td>\n",
       "      <td>350</td>\n",
       "      <td>-650</td>\n",
       "      <td>0.0</td>\n",
       "      <td>0.0</td>\n",
       "    </tr>\n",
       "    <tr>\n",
       "      <th>21</th>\n",
       "      <td>27</td>\n",
       "      <td>100</td>\n",
       "      <td>0</td>\n",
       "      <td>0</td>\n",
       "      <td>0</td>\n",
       "      <td>0</td>\n",
       "      <td>0</td>\n",
       "      <td>-79.8</td>\n",
       "      <td>-32.2</td>\n",
       "      <td>-70.9</td>\n",
       "      <td>...</td>\n",
       "      <td>53.0</td>\n",
       "      <td>8.0</td>\n",
       "      <td>5</td>\n",
       "      <td>2</td>\n",
       "      <td>1</td>\n",
       "      <td>0</td>\n",
       "      <td>-300</td>\n",
       "      <td>300</td>\n",
       "      <td>650.0</td>\n",
       "      <td>300.0</td>\n",
       "    </tr>\n",
       "    <tr>\n",
       "      <th>22</th>\n",
       "      <td>28</td>\n",
       "      <td>200</td>\n",
       "      <td>0</td>\n",
       "      <td>0</td>\n",
       "      <td>0</td>\n",
       "      <td>0</td>\n",
       "      <td>0</td>\n",
       "      <td>-68.1</td>\n",
       "      <td>148.1</td>\n",
       "      <td>-1.3</td>\n",
       "      <td>...</td>\n",
       "      <td>-24.0</td>\n",
       "      <td>2.0</td>\n",
       "      <td>-3</td>\n",
       "      <td>-2</td>\n",
       "      <td>-1</td>\n",
       "      <td>0</td>\n",
       "      <td>0</td>\n",
       "      <td>0</td>\n",
       "      <td>350.0</td>\n",
       "      <td>0.0</td>\n",
       "    </tr>\n",
       "    <tr>\n",
       "      <th>23</th>\n",
       "      <td>29</td>\n",
       "      <td>200</td>\n",
       "      <td>0</td>\n",
       "      <td>0</td>\n",
       "      <td>0</td>\n",
       "      <td>0</td>\n",
       "      <td>0</td>\n",
       "      <td>26.3</td>\n",
       "      <td>41.9</td>\n",
       "      <td>-31.1</td>\n",
       "      <td>...</td>\n",
       "      <td>-41.0</td>\n",
       "      <td>16.0</td>\n",
       "      <td>-7</td>\n",
       "      <td>-3</td>\n",
       "      <td>0</td>\n",
       "      <td>300</td>\n",
       "      <td>0</td>\n",
       "      <td>0</td>\n",
       "      <td>0.0</td>\n",
       "      <td>0.0</td>\n",
       "    </tr>\n",
       "    <tr>\n",
       "      <th>24</th>\n",
       "      <td>30</td>\n",
       "      <td>200</td>\n",
       "      <td>0</td>\n",
       "      <td>0</td>\n",
       "      <td>0</td>\n",
       "      <td>0</td>\n",
       "      <td>0</td>\n",
       "      <td>-3.7</td>\n",
       "      <td>84.6</td>\n",
       "      <td>13.7</td>\n",
       "      <td>...</td>\n",
       "      <td>-66.0</td>\n",
       "      <td>14.0</td>\n",
       "      <td>-8</td>\n",
       "      <td>-3</td>\n",
       "      <td>0</td>\n",
       "      <td>0</td>\n",
       "      <td>350</td>\n",
       "      <td>0</td>\n",
       "      <td>350.0</td>\n",
       "      <td>-350.0</td>\n",
       "    </tr>\n",
       "    <tr>\n",
       "      <th>25</th>\n",
       "      <td>31</td>\n",
       "      <td>200</td>\n",
       "      <td>0</td>\n",
       "      <td>0</td>\n",
       "      <td>0</td>\n",
       "      <td>0</td>\n",
       "      <td>0</td>\n",
       "      <td>75.7</td>\n",
       "      <td>54.8</td>\n",
       "      <td>14.9</td>\n",
       "      <td>...</td>\n",
       "      <td>2.0</td>\n",
       "      <td>4.0</td>\n",
       "      <td>-9</td>\n",
       "      <td>0</td>\n",
       "      <td>-1</td>\n",
       "      <td>350</td>\n",
       "      <td>-650</td>\n",
       "      <td>-350</td>\n",
       "      <td>0.0</td>\n",
       "      <td>-300.0</td>\n",
       "    </tr>\n",
       "    <tr>\n",
       "      <th>26</th>\n",
       "      <td>32</td>\n",
       "      <td>100</td>\n",
       "      <td>0</td>\n",
       "      <td>0</td>\n",
       "      <td>0</td>\n",
       "      <td>0</td>\n",
       "      <td>0</td>\n",
       "      <td>91.5</td>\n",
       "      <td>104.7</td>\n",
       "      <td>43.4</td>\n",
       "      <td>...</td>\n",
       "      <td>-7.0</td>\n",
       "      <td>-24.0</td>\n",
       "      <td>4</td>\n",
       "      <td>2</td>\n",
       "      <td>1</td>\n",
       "      <td>300</td>\n",
       "      <td>300</td>\n",
       "      <td>-350</td>\n",
       "      <td>-350.0</td>\n",
       "      <td>-300.0</td>\n",
       "    </tr>\n",
       "    <tr>\n",
       "      <th>27</th>\n",
       "      <td>34</td>\n",
       "      <td>100</td>\n",
       "      <td>0</td>\n",
       "      <td>0</td>\n",
       "      <td>0</td>\n",
       "      <td>0</td>\n",
       "      <td>0</td>\n",
       "      <td>-24.5</td>\n",
       "      <td>-1.6</td>\n",
       "      <td>2.0</td>\n",
       "      <td>...</td>\n",
       "      <td>-27.0</td>\n",
       "      <td>15.0</td>\n",
       "      <td>2</td>\n",
       "      <td>-4</td>\n",
       "      <td>-1</td>\n",
       "      <td>650</td>\n",
       "      <td>-650</td>\n",
       "      <td>650</td>\n",
       "      <td>-650.0</td>\n",
       "      <td>300.0</td>\n",
       "    </tr>\n",
       "    <tr>\n",
       "      <th>28</th>\n",
       "      <td>35</td>\n",
       "      <td>100</td>\n",
       "      <td>0</td>\n",
       "      <td>0</td>\n",
       "      <td>0</td>\n",
       "      <td>0</td>\n",
       "      <td>0</td>\n",
       "      <td>-23.7</td>\n",
       "      <td>-53.4</td>\n",
       "      <td>-19.8</td>\n",
       "      <td>...</td>\n",
       "      <td>50.0</td>\n",
       "      <td>14.0</td>\n",
       "      <td>8</td>\n",
       "      <td>1</td>\n",
       "      <td>0</td>\n",
       "      <td>-300</td>\n",
       "      <td>-650</td>\n",
       "      <td>-300</td>\n",
       "      <td>-300.0</td>\n",
       "      <td>650.0</td>\n",
       "    </tr>\n",
       "    <tr>\n",
       "      <th>29</th>\n",
       "      <td>36</td>\n",
       "      <td>100</td>\n",
       "      <td>0</td>\n",
       "      <td>0</td>\n",
       "      <td>0</td>\n",
       "      <td>0</td>\n",
       "      <td>0</td>\n",
       "      <td>153.4</td>\n",
       "      <td>-162.7</td>\n",
       "      <td>18.9</td>\n",
       "      <td>...</td>\n",
       "      <td>-40.0</td>\n",
       "      <td>-26.0</td>\n",
       "      <td>5</td>\n",
       "      <td>-1</td>\n",
       "      <td>1</td>\n",
       "      <td>0</td>\n",
       "      <td>0</td>\n",
       "      <td>-300</td>\n",
       "      <td>0.0</td>\n",
       "      <td>-650.0</td>\n",
       "    </tr>\n",
       "    <tr>\n",
       "      <th>...</th>\n",
       "      <td>...</td>\n",
       "      <td>...</td>\n",
       "      <td>...</td>\n",
       "      <td>...</td>\n",
       "      <td>...</td>\n",
       "      <td>...</td>\n",
       "      <td>...</td>\n",
       "      <td>...</td>\n",
       "      <td>...</td>\n",
       "      <td>...</td>\n",
       "      <td>...</td>\n",
       "      <td>...</td>\n",
       "      <td>...</td>\n",
       "      <td>...</td>\n",
       "      <td>...</td>\n",
       "      <td>...</td>\n",
       "      <td>...</td>\n",
       "      <td>...</td>\n",
       "      <td>...</td>\n",
       "      <td>...</td>\n",
       "      <td>...</td>\n",
       "    </tr>\n",
       "    <tr>\n",
       "      <th>174</th>\n",
       "      <td>239</td>\n",
       "      <td>100</td>\n",
       "      <td>0</td>\n",
       "      <td>0</td>\n",
       "      <td>0</td>\n",
       "      <td>0</td>\n",
       "      <td>0</td>\n",
       "      <td>-16.6</td>\n",
       "      <td>-33.3</td>\n",
       "      <td>-94.2</td>\n",
       "      <td>...</td>\n",
       "      <td>32.0</td>\n",
       "      <td>28.0</td>\n",
       "      <td>5</td>\n",
       "      <td>-1</td>\n",
       "      <td>2</td>\n",
       "      <td>0</td>\n",
       "      <td>-600</td>\n",
       "      <td>300</td>\n",
       "      <td>950.0</td>\n",
       "      <td>-300.0</td>\n",
       "    </tr>\n",
       "    <tr>\n",
       "      <th>175</th>\n",
       "      <td>241</td>\n",
       "      <td>200</td>\n",
       "      <td>0</td>\n",
       "      <td>0</td>\n",
       "      <td>0</td>\n",
       "      <td>0</td>\n",
       "      <td>0</td>\n",
       "      <td>-9.8</td>\n",
       "      <td>40.9</td>\n",
       "      <td>71.2</td>\n",
       "      <td>...</td>\n",
       "      <td>-64.0</td>\n",
       "      <td>9.0</td>\n",
       "      <td>-2</td>\n",
       "      <td>1</td>\n",
       "      <td>2</td>\n",
       "      <td>0</td>\n",
       "      <td>0</td>\n",
       "      <td>-650</td>\n",
       "      <td>-950.0</td>\n",
       "      <td>300.0</td>\n",
       "    </tr>\n",
       "    <tr>\n",
       "      <th>176</th>\n",
       "      <td>242</td>\n",
       "      <td>200</td>\n",
       "      <td>0</td>\n",
       "      <td>0</td>\n",
       "      <td>0</td>\n",
       "      <td>0</td>\n",
       "      <td>0</td>\n",
       "      <td>89.5</td>\n",
       "      <td>20.7</td>\n",
       "      <td>48.9</td>\n",
       "      <td>...</td>\n",
       "      <td>16.0</td>\n",
       "      <td>19.0</td>\n",
       "      <td>-3</td>\n",
       "      <td>-1</td>\n",
       "      <td>-1</td>\n",
       "      <td>-300</td>\n",
       "      <td>600</td>\n",
       "      <td>950</td>\n",
       "      <td>0.0</td>\n",
       "      <td>-950.0</td>\n",
       "    </tr>\n",
       "    <tr>\n",
       "      <th>177</th>\n",
       "      <td>243</td>\n",
       "      <td>100</td>\n",
       "      <td>0</td>\n",
       "      <td>0</td>\n",
       "      <td>0</td>\n",
       "      <td>0</td>\n",
       "      <td>0</td>\n",
       "      <td>67.2</td>\n",
       "      <td>92.2</td>\n",
       "      <td>75.7</td>\n",
       "      <td>...</td>\n",
       "      <td>-45.0</td>\n",
       "      <td>-36.0</td>\n",
       "      <td>4</td>\n",
       "      <td>3</td>\n",
       "      <td>1</td>\n",
       "      <td>-600</td>\n",
       "      <td>950</td>\n",
       "      <td>-950</td>\n",
       "      <td>0.0</td>\n",
       "      <td>650.0</td>\n",
       "    </tr>\n",
       "    <tr>\n",
       "      <th>178</th>\n",
       "      <td>244</td>\n",
       "      <td>200</td>\n",
       "      <td>0</td>\n",
       "      <td>0</td>\n",
       "      <td>0</td>\n",
       "      <td>0</td>\n",
       "      <td>0</td>\n",
       "      <td>-175.0</td>\n",
       "      <td>73.4</td>\n",
       "      <td>-189.4</td>\n",
       "      <td>...</td>\n",
       "      <td>41.0</td>\n",
       "      <td>177.0</td>\n",
       "      <td>-8</td>\n",
       "      <td>-2</td>\n",
       "      <td>0</td>\n",
       "      <td>0</td>\n",
       "      <td>0</td>\n",
       "      <td>-650</td>\n",
       "      <td>0.0</td>\n",
       "      <td>-1250.0</td>\n",
       "    </tr>\n",
       "    <tr>\n",
       "      <th>179</th>\n",
       "      <td>248</td>\n",
       "      <td>100</td>\n",
       "      <td>0</td>\n",
       "      <td>0</td>\n",
       "      <td>0</td>\n",
       "      <td>0</td>\n",
       "      <td>0</td>\n",
       "      <td>31.0</td>\n",
       "      <td>29.0</td>\n",
       "      <td>-27.4</td>\n",
       "      <td>...</td>\n",
       "      <td>31.0</td>\n",
       "      <td>-18.0</td>\n",
       "      <td>8</td>\n",
       "      <td>1</td>\n",
       "      <td>0</td>\n",
       "      <td>0</td>\n",
       "      <td>0</td>\n",
       "      <td>0</td>\n",
       "      <td>0.0</td>\n",
       "      <td>300.0</td>\n",
       "    </tr>\n",
       "    <tr>\n",
       "      <th>180</th>\n",
       "      <td>251</td>\n",
       "      <td>200</td>\n",
       "      <td>0</td>\n",
       "      <td>0</td>\n",
       "      <td>0</td>\n",
       "      <td>0</td>\n",
       "      <td>0</td>\n",
       "      <td>85.6</td>\n",
       "      <td>31.4</td>\n",
       "      <td>-23.2</td>\n",
       "      <td>...</td>\n",
       "      <td>24.0</td>\n",
       "      <td>22.0</td>\n",
       "      <td>-6</td>\n",
       "      <td>-3</td>\n",
       "      <td>-2</td>\n",
       "      <td>300</td>\n",
       "      <td>0</td>\n",
       "      <td>1250</td>\n",
       "      <td>-300.0</td>\n",
       "      <td>0.0</td>\n",
       "    </tr>\n",
       "    <tr>\n",
       "      <th>181</th>\n",
       "      <td>254</td>\n",
       "      <td>200</td>\n",
       "      <td>0</td>\n",
       "      <td>0</td>\n",
       "      <td>0</td>\n",
       "      <td>0</td>\n",
       "      <td>0</td>\n",
       "      <td>-94.4</td>\n",
       "      <td>55.2</td>\n",
       "      <td>-59.3</td>\n",
       "      <td>...</td>\n",
       "      <td>-67.0</td>\n",
       "      <td>12.0</td>\n",
       "      <td>-10</td>\n",
       "      <td>0</td>\n",
       "      <td>-1</td>\n",
       "      <td>0</td>\n",
       "      <td>1250</td>\n",
       "      <td>0</td>\n",
       "      <td>0.0</td>\n",
       "      <td>-1250.0</td>\n",
       "    </tr>\n",
       "    <tr>\n",
       "      <th>182</th>\n",
       "      <td>256</td>\n",
       "      <td>200</td>\n",
       "      <td>0</td>\n",
       "      <td>0</td>\n",
       "      <td>0</td>\n",
       "      <td>0</td>\n",
       "      <td>0</td>\n",
       "      <td>-94.5</td>\n",
       "      <td>-83.4</td>\n",
       "      <td>36.4</td>\n",
       "      <td>...</td>\n",
       "      <td>-54.0</td>\n",
       "      <td>36.0</td>\n",
       "      <td>-8</td>\n",
       "      <td>-4</td>\n",
       "      <td>-1</td>\n",
       "      <td>-950</td>\n",
       "      <td>-1250</td>\n",
       "      <td>1550</td>\n",
       "      <td>450.0</td>\n",
       "      <td>-350.0</td>\n",
       "    </tr>\n",
       "    <tr>\n",
       "      <th>183</th>\n",
       "      <td>258</td>\n",
       "      <td>200</td>\n",
       "      <td>0</td>\n",
       "      <td>0</td>\n",
       "      <td>0</td>\n",
       "      <td>0</td>\n",
       "      <td>0</td>\n",
       "      <td>-119.8</td>\n",
       "      <td>-34.7</td>\n",
       "      <td>-8.8</td>\n",
       "      <td>...</td>\n",
       "      <td>93.0</td>\n",
       "      <td>-7.0</td>\n",
       "      <td>-11</td>\n",
       "      <td>-2</td>\n",
       "      <td>-2</td>\n",
       "      <td>0</td>\n",
       "      <td>1250</td>\n",
       "      <td>600</td>\n",
       "      <td>1250.0</td>\n",
       "      <td>300.0</td>\n",
       "    </tr>\n",
       "    <tr>\n",
       "      <th>184</th>\n",
       "      <td>259</td>\n",
       "      <td>100</td>\n",
       "      <td>0</td>\n",
       "      <td>0</td>\n",
       "      <td>0</td>\n",
       "      <td>0</td>\n",
       "      <td>0</td>\n",
       "      <td>-3.5</td>\n",
       "      <td>98.9</td>\n",
       "      <td>-36.0</td>\n",
       "      <td>...</td>\n",
       "      <td>-77.0</td>\n",
       "      <td>-31.0</td>\n",
       "      <td>8</td>\n",
       "      <td>2</td>\n",
       "      <td>1</td>\n",
       "      <td>-600</td>\n",
       "      <td>300</td>\n",
       "      <td>-950</td>\n",
       "      <td>600.0</td>\n",
       "      <td>-300.0</td>\n",
       "    </tr>\n",
       "    <tr>\n",
       "      <th>185</th>\n",
       "      <td>260</td>\n",
       "      <td>100</td>\n",
       "      <td>0</td>\n",
       "      <td>0</td>\n",
       "      <td>0</td>\n",
       "      <td>0</td>\n",
       "      <td>0</td>\n",
       "      <td>-31.5</td>\n",
       "      <td>271.0</td>\n",
       "      <td>-17.0</td>\n",
       "      <td>...</td>\n",
       "      <td>-12.0</td>\n",
       "      <td>0.0</td>\n",
       "      <td>10</td>\n",
       "      <td>2</td>\n",
       "      <td>1</td>\n",
       "      <td>0</td>\n",
       "      <td>-300</td>\n",
       "      <td>0</td>\n",
       "      <td>300.0</td>\n",
       "      <td>-300.0</td>\n",
       "    </tr>\n",
       "    <tr>\n",
       "      <th>186</th>\n",
       "      <td>264</td>\n",
       "      <td>200</td>\n",
       "      <td>0</td>\n",
       "      <td>0</td>\n",
       "      <td>0</td>\n",
       "      <td>0</td>\n",
       "      <td>0</td>\n",
       "      <td>-29.8</td>\n",
       "      <td>-177.9</td>\n",
       "      <td>80.1</td>\n",
       "      <td>...</td>\n",
       "      <td>114.0</td>\n",
       "      <td>18.0</td>\n",
       "      <td>-3</td>\n",
       "      <td>2</td>\n",
       "      <td>1</td>\n",
       "      <td>-1250</td>\n",
       "      <td>1250</td>\n",
       "      <td>950</td>\n",
       "      <td>-300.0</td>\n",
       "      <td>0.0</td>\n",
       "    </tr>\n",
       "    <tr>\n",
       "      <th>187</th>\n",
       "      <td>266</td>\n",
       "      <td>100</td>\n",
       "      <td>0</td>\n",
       "      <td>0</td>\n",
       "      <td>0</td>\n",
       "      <td>0</td>\n",
       "      <td>0</td>\n",
       "      <td>-19.3</td>\n",
       "      <td>69.3</td>\n",
       "      <td>61.9</td>\n",
       "      <td>...</td>\n",
       "      <td>18.0</td>\n",
       "      <td>7.0</td>\n",
       "      <td>5</td>\n",
       "      <td>2</td>\n",
       "      <td>1</td>\n",
       "      <td>0</td>\n",
       "      <td>-900</td>\n",
       "      <td>-950</td>\n",
       "      <td>0.0</td>\n",
       "      <td>-950.0</td>\n",
       "    </tr>\n",
       "    <tr>\n",
       "      <th>188</th>\n",
       "      <td>267</td>\n",
       "      <td>200</td>\n",
       "      <td>0</td>\n",
       "      <td>0</td>\n",
       "      <td>0</td>\n",
       "      <td>0</td>\n",
       "      <td>0</td>\n",
       "      <td>20.3</td>\n",
       "      <td>-81.0</td>\n",
       "      <td>-23.1</td>\n",
       "      <td>...</td>\n",
       "      <td>0.0</td>\n",
       "      <td>-20.0</td>\n",
       "      <td>-5</td>\n",
       "      <td>1</td>\n",
       "      <td>-1</td>\n",
       "      <td>300</td>\n",
       "      <td>600</td>\n",
       "      <td>950</td>\n",
       "      <td>-650.0</td>\n",
       "      <td>-300.0</td>\n",
       "    </tr>\n",
       "    <tr>\n",
       "      <th>189</th>\n",
       "      <td>269</td>\n",
       "      <td>100</td>\n",
       "      <td>0</td>\n",
       "      <td>0</td>\n",
       "      <td>0</td>\n",
       "      <td>0</td>\n",
       "      <td>0</td>\n",
       "      <td>-4.6</td>\n",
       "      <td>35.8</td>\n",
       "      <td>-14.9</td>\n",
       "      <td>...</td>\n",
       "      <td>-56.0</td>\n",
       "      <td>-38.0</td>\n",
       "      <td>7</td>\n",
       "      <td>1</td>\n",
       "      <td>1</td>\n",
       "      <td>1250</td>\n",
       "      <td>-1250</td>\n",
       "      <td>0</td>\n",
       "      <td>1250.0</td>\n",
       "      <td>1250.0</td>\n",
       "    </tr>\n",
       "    <tr>\n",
       "      <th>190</th>\n",
       "      <td>270</td>\n",
       "      <td>100</td>\n",
       "      <td>0</td>\n",
       "      <td>0</td>\n",
       "      <td>0</td>\n",
       "      <td>0</td>\n",
       "      <td>0</td>\n",
       "      <td>54.3</td>\n",
       "      <td>-77.0</td>\n",
       "      <td>-35.2</td>\n",
       "      <td>...</td>\n",
       "      <td>-167.0</td>\n",
       "      <td>170.0</td>\n",
       "      <td>6</td>\n",
       "      <td>2</td>\n",
       "      <td>1</td>\n",
       "      <td>-1250</td>\n",
       "      <td>-950</td>\n",
       "      <td>1250</td>\n",
       "      <td>0.0</td>\n",
       "      <td>1250.0</td>\n",
       "    </tr>\n",
       "    <tr>\n",
       "      <th>191</th>\n",
       "      <td>272</td>\n",
       "      <td>100</td>\n",
       "      <td>0</td>\n",
       "      <td>0</td>\n",
       "      <td>0</td>\n",
       "      <td>0</td>\n",
       "      <td>0</td>\n",
       "      <td>61.4</td>\n",
       "      <td>-22.3</td>\n",
       "      <td>12.4</td>\n",
       "      <td>...</td>\n",
       "      <td>13.0</td>\n",
       "      <td>-8.0</td>\n",
       "      <td>9</td>\n",
       "      <td>1</td>\n",
       "      <td>2</td>\n",
       "      <td>-300</td>\n",
       "      <td>1250</td>\n",
       "      <td>-350</td>\n",
       "      <td>-600.0</td>\n",
       "      <td>650.0</td>\n",
       "    </tr>\n",
       "    <tr>\n",
       "      <th>192</th>\n",
       "      <td>273</td>\n",
       "      <td>100</td>\n",
       "      <td>0</td>\n",
       "      <td>0</td>\n",
       "      <td>0</td>\n",
       "      <td>0</td>\n",
       "      <td>0</td>\n",
       "      <td>39.6</td>\n",
       "      <td>113.8</td>\n",
       "      <td>-178.3</td>\n",
       "      <td>...</td>\n",
       "      <td>-19.0</td>\n",
       "      <td>2.0</td>\n",
       "      <td>0</td>\n",
       "      <td>-1</td>\n",
       "      <td>1</td>\n",
       "      <td>600</td>\n",
       "      <td>1250</td>\n",
       "      <td>1250</td>\n",
       "      <td>300.0</td>\n",
       "      <td>-300.0</td>\n",
       "    </tr>\n",
       "    <tr>\n",
       "      <th>193</th>\n",
       "      <td>274</td>\n",
       "      <td>200</td>\n",
       "      <td>0</td>\n",
       "      <td>0</td>\n",
       "      <td>0</td>\n",
       "      <td>0</td>\n",
       "      <td>0</td>\n",
       "      <td>-9.2</td>\n",
       "      <td>40.6</td>\n",
       "      <td>-22.1</td>\n",
       "      <td>...</td>\n",
       "      <td>-46.0</td>\n",
       "      <td>7.0</td>\n",
       "      <td>-3</td>\n",
       "      <td>0</td>\n",
       "      <td>0</td>\n",
       "      <td>300</td>\n",
       "      <td>950</td>\n",
       "      <td>-950</td>\n",
       "      <td>300.0</td>\n",
       "      <td>0.0</td>\n",
       "    </tr>\n",
       "    <tr>\n",
       "      <th>194</th>\n",
       "      <td>276</td>\n",
       "      <td>200</td>\n",
       "      <td>0</td>\n",
       "      <td>0</td>\n",
       "      <td>0</td>\n",
       "      <td>0</td>\n",
       "      <td>0</td>\n",
       "      <td>-48.4</td>\n",
       "      <td>-73.0</td>\n",
       "      <td>80.4</td>\n",
       "      <td>...</td>\n",
       "      <td>26.0</td>\n",
       "      <td>13.0</td>\n",
       "      <td>-3</td>\n",
       "      <td>-1</td>\n",
       "      <td>0</td>\n",
       "      <td>300</td>\n",
       "      <td>0</td>\n",
       "      <td>-950</td>\n",
       "      <td>-300.0</td>\n",
       "      <td>1250.0</td>\n",
       "    </tr>\n",
       "    <tr>\n",
       "      <th>195</th>\n",
       "      <td>278</td>\n",
       "      <td>200</td>\n",
       "      <td>0</td>\n",
       "      <td>0</td>\n",
       "      <td>0</td>\n",
       "      <td>0</td>\n",
       "      <td>0</td>\n",
       "      <td>22.7</td>\n",
       "      <td>-203.5</td>\n",
       "      <td>-84.9</td>\n",
       "      <td>...</td>\n",
       "      <td>-23.0</td>\n",
       "      <td>-16.0</td>\n",
       "      <td>-7</td>\n",
       "      <td>-2</td>\n",
       "      <td>0</td>\n",
       "      <td>-650</td>\n",
       "      <td>950</td>\n",
       "      <td>-950</td>\n",
       "      <td>0.0</td>\n",
       "      <td>-950.0</td>\n",
       "    </tr>\n",
       "    <tr>\n",
       "      <th>196</th>\n",
       "      <td>279</td>\n",
       "      <td>200</td>\n",
       "      <td>0</td>\n",
       "      <td>0</td>\n",
       "      <td>0</td>\n",
       "      <td>0</td>\n",
       "      <td>0</td>\n",
       "      <td>-117.5</td>\n",
       "      <td>77.2</td>\n",
       "      <td>-0.1</td>\n",
       "      <td>...</td>\n",
       "      <td>-26.0</td>\n",
       "      <td>-37.0</td>\n",
       "      <td>-9</td>\n",
       "      <td>-3</td>\n",
       "      <td>2</td>\n",
       "      <td>650</td>\n",
       "      <td>0</td>\n",
       "      <td>0</td>\n",
       "      <td>-650.0</td>\n",
       "      <td>-900.0</td>\n",
       "    </tr>\n",
       "    <tr>\n",
       "      <th>197</th>\n",
       "      <td>280</td>\n",
       "      <td>200</td>\n",
       "      <td>0</td>\n",
       "      <td>0</td>\n",
       "      <td>0</td>\n",
       "      <td>0</td>\n",
       "      <td>0</td>\n",
       "      <td>11.9</td>\n",
       "      <td>17.5</td>\n",
       "      <td>59.6</td>\n",
       "      <td>...</td>\n",
       "      <td>-52.0</td>\n",
       "      <td>-52.0</td>\n",
       "      <td>-11</td>\n",
       "      <td>-3</td>\n",
       "      <td>-1</td>\n",
       "      <td>650</td>\n",
       "      <td>0</td>\n",
       "      <td>-300</td>\n",
       "      <td>950.0</td>\n",
       "      <td>-300.0</td>\n",
       "    </tr>\n",
       "    <tr>\n",
       "      <th>198</th>\n",
       "      <td>281</td>\n",
       "      <td>100</td>\n",
       "      <td>0</td>\n",
       "      <td>0</td>\n",
       "      <td>0</td>\n",
       "      <td>0</td>\n",
       "      <td>0</td>\n",
       "      <td>-50.1</td>\n",
       "      <td>-32.5</td>\n",
       "      <td>-55.5</td>\n",
       "      <td>...</td>\n",
       "      <td>21.0</td>\n",
       "      <td>-9.0</td>\n",
       "      <td>3</td>\n",
       "      <td>-1</td>\n",
       "      <td>0</td>\n",
       "      <td>0</td>\n",
       "      <td>-300</td>\n",
       "      <td>300</td>\n",
       "      <td>-300.0</td>\n",
       "      <td>0.0</td>\n",
       "    </tr>\n",
       "    <tr>\n",
       "      <th>199</th>\n",
       "      <td>283</td>\n",
       "      <td>200</td>\n",
       "      <td>0</td>\n",
       "      <td>0</td>\n",
       "      <td>0</td>\n",
       "      <td>0</td>\n",
       "      <td>0</td>\n",
       "      <td>92.9</td>\n",
       "      <td>-34.8</td>\n",
       "      <td>39.9</td>\n",
       "      <td>...</td>\n",
       "      <td>-23.0</td>\n",
       "      <td>22.0</td>\n",
       "      <td>-10</td>\n",
       "      <td>-3</td>\n",
       "      <td>-1</td>\n",
       "      <td>300</td>\n",
       "      <td>-300</td>\n",
       "      <td>0</td>\n",
       "      <td>-300.0</td>\n",
       "      <td>1250.0</td>\n",
       "    </tr>\n",
       "    <tr>\n",
       "      <th>200</th>\n",
       "      <td>284</td>\n",
       "      <td>200</td>\n",
       "      <td>0</td>\n",
       "      <td>0</td>\n",
       "      <td>0</td>\n",
       "      <td>0</td>\n",
       "      <td>0</td>\n",
       "      <td>99.5</td>\n",
       "      <td>-60.0</td>\n",
       "      <td>53.3</td>\n",
       "      <td>...</td>\n",
       "      <td>0.0</td>\n",
       "      <td>1.0</td>\n",
       "      <td>-5</td>\n",
       "      <td>0</td>\n",
       "      <td>-1</td>\n",
       "      <td>650</td>\n",
       "      <td>950</td>\n",
       "      <td>300</td>\n",
       "      <td>650.0</td>\n",
       "      <td>300.0</td>\n",
       "    </tr>\n",
       "    <tr>\n",
       "      <th>201</th>\n",
       "      <td>285</td>\n",
       "      <td>200</td>\n",
       "      <td>0</td>\n",
       "      <td>0</td>\n",
       "      <td>0</td>\n",
       "      <td>0</td>\n",
       "      <td>0</td>\n",
       "      <td>74.5</td>\n",
       "      <td>68.9</td>\n",
       "      <td>-53.4</td>\n",
       "      <td>...</td>\n",
       "      <td>-63.0</td>\n",
       "      <td>-10.0</td>\n",
       "      <td>-2</td>\n",
       "      <td>-1</td>\n",
       "      <td>-1</td>\n",
       "      <td>-300</td>\n",
       "      <td>0</td>\n",
       "      <td>-300</td>\n",
       "      <td>-950.0</td>\n",
       "      <td>650.0</td>\n",
       "    </tr>\n",
       "    <tr>\n",
       "      <th>202</th>\n",
       "      <td>286</td>\n",
       "      <td>200</td>\n",
       "      <td>0</td>\n",
       "      <td>0</td>\n",
       "      <td>0</td>\n",
       "      <td>0</td>\n",
       "      <td>0</td>\n",
       "      <td>-0.5</td>\n",
       "      <td>-5.6</td>\n",
       "      <td>45.4</td>\n",
       "      <td>...</td>\n",
       "      <td>13.0</td>\n",
       "      <td>-6.0</td>\n",
       "      <td>-7</td>\n",
       "      <td>-2</td>\n",
       "      <td>-1</td>\n",
       "      <td>900</td>\n",
       "      <td>0</td>\n",
       "      <td>-300</td>\n",
       "      <td>0.0</td>\n",
       "      <td>-300.0</td>\n",
       "    </tr>\n",
       "    <tr>\n",
       "      <th>203</th>\n",
       "      <td>287</td>\n",
       "      <td>200</td>\n",
       "      <td>0</td>\n",
       "      <td>0</td>\n",
       "      <td>0</td>\n",
       "      <td>0</td>\n",
       "      <td>0</td>\n",
       "      <td>-100.3</td>\n",
       "      <td>-100.2</td>\n",
       "      <td>-116.0</td>\n",
       "      <td>...</td>\n",
       "      <td>49.0</td>\n",
       "      <td>168.0</td>\n",
       "      <td>-3</td>\n",
       "      <td>0</td>\n",
       "      <td>-1</td>\n",
       "      <td>0</td>\n",
       "      <td>0</td>\n",
       "      <td>-300</td>\n",
       "      <td>300.0</td>\n",
       "      <td>-300.0</td>\n",
       "    </tr>\n",
       "  </tbody>\n",
       "</table>\n",
       "<p>3489 rows × 70 columns</p>\n",
       "</div>"
      ],
      "text/plain": [
       "     Unnamed: 0  Result  MasteryDif_Top  MasteryDif_Jg  MasteryDif_Mid  \\\n",
       "0             1     100               0              0               0   \n",
       "1             2     100               0              0               0   \n",
       "2             3     200               0              0               0   \n",
       "3             4     200               0              0               0   \n",
       "4             5     200               0              0               0   \n",
       "5             6     100               0              0               0   \n",
       "6             8     200               0              0               0   \n",
       "7            10     100               0              0               0   \n",
       "8            11     200               0              0               0   \n",
       "9            13     100               0              0               0   \n",
       "10           14     200               0              0               0   \n",
       "11           15     200               0              0               0   \n",
       "12           16     100               0              0               0   \n",
       "13           18     200               0              0               0   \n",
       "14           19     200               0              0               0   \n",
       "15           20     200               0              0               0   \n",
       "16           21     100               0              0               0   \n",
       "17           22     200               0              0               0   \n",
       "18           23     100               0              0               0   \n",
       "19           24     100               0              0               0   \n",
       "20           26     100               0              0               0   \n",
       "21           27     100               0              0               0   \n",
       "22           28     200               0              0               0   \n",
       "23           29     200               0              0               0   \n",
       "24           30     200               0              0               0   \n",
       "25           31     200               0              0               0   \n",
       "26           32     100               0              0               0   \n",
       "27           34     100               0              0               0   \n",
       "28           35     100               0              0               0   \n",
       "29           36     100               0              0               0   \n",
       "..          ...     ...             ...            ...             ...   \n",
       "174         239     100               0              0               0   \n",
       "175         241     200               0              0               0   \n",
       "176         242     200               0              0               0   \n",
       "177         243     100               0              0               0   \n",
       "178         244     200               0              0               0   \n",
       "179         248     100               0              0               0   \n",
       "180         251     200               0              0               0   \n",
       "181         254     200               0              0               0   \n",
       "182         256     200               0              0               0   \n",
       "183         258     200               0              0               0   \n",
       "184         259     100               0              0               0   \n",
       "185         260     100               0              0               0   \n",
       "186         264     200               0              0               0   \n",
       "187         266     100               0              0               0   \n",
       "188         267     200               0              0               0   \n",
       "189         269     100               0              0               0   \n",
       "190         270     100               0              0               0   \n",
       "191         272     100               0              0               0   \n",
       "192         273     100               0              0               0   \n",
       "193         274     200               0              0               0   \n",
       "194         276     200               0              0               0   \n",
       "195         278     200               0              0               0   \n",
       "196         279     200               0              0               0   \n",
       "197         280     200               0              0               0   \n",
       "198         281     100               0              0               0   \n",
       "199         283     200               0              0               0   \n",
       "200         284     200               0              0               0   \n",
       "201         285     200               0              0               0   \n",
       "202         286     200               0              0               0   \n",
       "203         287     200               0              0               0   \n",
       "\n",
       "     MasteryDif_ADC  MasteryDif_Sup  Gold10Dif_Top  Gold10Dif_Jg  \\\n",
       "0                 0               0           98.3         -33.4   \n",
       "1                 0               0           16.0         -26.7   \n",
       "2                 0               0           -4.7          85.4   \n",
       "3                 0               0          115.4         -59.7   \n",
       "4                 0               0            0.7          43.7   \n",
       "5                 0               0           38.7           0.8   \n",
       "6                 0               0          -22.9        -104.1   \n",
       "7                 0               0           98.6          56.8   \n",
       "8                 0               0           43.2          -8.5   \n",
       "9                 0               0           91.7           3.7   \n",
       "10                0               0          128.4         -13.9   \n",
       "11                0               0         -138.0         -66.1   \n",
       "12                0               0           57.3         210.8   \n",
       "13                0               0          -85.5         -41.7   \n",
       "14                0               0           77.2         -41.5   \n",
       "15                0               0          -12.6         -55.1   \n",
       "16                0               0           44.8         130.6   \n",
       "17                0               0           24.0          17.1   \n",
       "18                0               0          188.1         -75.9   \n",
       "19                0               0          -47.9          15.1   \n",
       "20                0               0          -41.1          98.8   \n",
       "21                0               0          -79.8         -32.2   \n",
       "22                0               0          -68.1         148.1   \n",
       "23                0               0           26.3          41.9   \n",
       "24                0               0           -3.7          84.6   \n",
       "25                0               0           75.7          54.8   \n",
       "26                0               0           91.5         104.7   \n",
       "27                0               0          -24.5          -1.6   \n",
       "28                0               0          -23.7         -53.4   \n",
       "29                0               0          153.4        -162.7   \n",
       "..              ...             ...            ...           ...   \n",
       "174               0               0          -16.6         -33.3   \n",
       "175               0               0           -9.8          40.9   \n",
       "176               0               0           89.5          20.7   \n",
       "177               0               0           67.2          92.2   \n",
       "178               0               0         -175.0          73.4   \n",
       "179               0               0           31.0          29.0   \n",
       "180               0               0           85.6          31.4   \n",
       "181               0               0          -94.4          55.2   \n",
       "182               0               0          -94.5         -83.4   \n",
       "183               0               0         -119.8         -34.7   \n",
       "184               0               0           -3.5          98.9   \n",
       "185               0               0          -31.5         271.0   \n",
       "186               0               0          -29.8        -177.9   \n",
       "187               0               0          -19.3          69.3   \n",
       "188               0               0           20.3         -81.0   \n",
       "189               0               0           -4.6          35.8   \n",
       "190               0               0           54.3         -77.0   \n",
       "191               0               0           61.4         -22.3   \n",
       "192               0               0           39.6         113.8   \n",
       "193               0               0           -9.2          40.6   \n",
       "194               0               0          -48.4         -73.0   \n",
       "195               0               0           22.7        -203.5   \n",
       "196               0               0         -117.5          77.2   \n",
       "197               0               0           11.9          17.5   \n",
       "198               0               0          -50.1         -32.5   \n",
       "199               0               0           92.9         -34.8   \n",
       "200               0               0           99.5         -60.0   \n",
       "201               0               0           74.5          68.9   \n",
       "202               0               0           -0.5          -5.6   \n",
       "203               0               0         -100.3        -100.2   \n",
       "\n",
       "     Gold10Dif_Mid    ...      CS_A   CS_S  TowerDif  Drags  Baron  Rank_Top  \\\n",
       "0            -16.5    ...      25.0  116.0         8      1      0      -350   \n",
       "1            -66.8    ...      17.0   -6.0         5      2      1      -350   \n",
       "2             77.6    ...       5.0   31.0        -4     -2     -1      -350   \n",
       "3            -31.1    ...      28.0   -3.0        -4      0     -1       300   \n",
       "4             56.3    ...      -8.0    4.0        -4     -4      0      -950   \n",
       "5             86.4    ...       0.0    0.0         8      2      1      -350   \n",
       "6            -16.1    ...     -68.0   -7.0        -7     -2     -1       650   \n",
       "7            115.4    ...     -49.0  -32.0         4      3      2      -600   \n",
       "8            -86.7    ...      -5.0  -12.0        -5     -4     -1         0   \n",
       "9             39.6    ...     -27.0   30.0         8      0      2       650   \n",
       "10           -50.1    ...     -78.0  -37.0        -5     -3     -1       650   \n",
       "11             1.8    ...     -44.0   -2.0        -9      0     -1         0   \n",
       "12           -30.8    ...      91.0   16.0         8      2      2      -950   \n",
       "13           -11.3    ...      -4.0   25.0        -4     -2     -1         0   \n",
       "14           -59.8    ...     -44.0  -24.0        -9     -2     -1       650   \n",
       "15           -84.4    ...      44.0  265.0        -1      0     -2      -300   \n",
       "16           -88.4    ...      28.0   14.0         8      1      1         0   \n",
       "17            86.8    ...      54.0   46.0         0      1     -2      -950   \n",
       "18            -7.4    ...      38.0   15.0         9      3     -1         0   \n",
       "19           -58.7    ...     -10.0   10.0         5      3     -1       350   \n",
       "20            36.3    ...      27.0   41.0         2      1      0       300   \n",
       "21           -70.9    ...      53.0    8.0         5      2      1         0   \n",
       "22            -1.3    ...     -24.0    2.0        -3     -2     -1         0   \n",
       "23           -31.1    ...     -41.0   16.0        -7     -3      0       300   \n",
       "24            13.7    ...     -66.0   14.0        -8     -3      0         0   \n",
       "25            14.9    ...       2.0    4.0        -9      0     -1       350   \n",
       "26            43.4    ...      -7.0  -24.0         4      2      1       300   \n",
       "27             2.0    ...     -27.0   15.0         2     -4     -1       650   \n",
       "28           -19.8    ...      50.0   14.0         8      1      0      -300   \n",
       "29            18.9    ...     -40.0  -26.0         5     -1      1         0   \n",
       "..             ...    ...       ...    ...       ...    ...    ...       ...   \n",
       "174          -94.2    ...      32.0   28.0         5     -1      2         0   \n",
       "175           71.2    ...     -64.0    9.0        -2      1      2         0   \n",
       "176           48.9    ...      16.0   19.0        -3     -1     -1      -300   \n",
       "177           75.7    ...     -45.0  -36.0         4      3      1      -600   \n",
       "178         -189.4    ...      41.0  177.0        -8     -2      0         0   \n",
       "179          -27.4    ...      31.0  -18.0         8      1      0         0   \n",
       "180          -23.2    ...      24.0   22.0        -6     -3     -2       300   \n",
       "181          -59.3    ...     -67.0   12.0       -10      0     -1         0   \n",
       "182           36.4    ...     -54.0   36.0        -8     -4     -1      -950   \n",
       "183           -8.8    ...      93.0   -7.0       -11     -2     -2         0   \n",
       "184          -36.0    ...     -77.0  -31.0         8      2      1      -600   \n",
       "185          -17.0    ...     -12.0    0.0        10      2      1         0   \n",
       "186           80.1    ...     114.0   18.0        -3      2      1     -1250   \n",
       "187           61.9    ...      18.0    7.0         5      2      1         0   \n",
       "188          -23.1    ...       0.0  -20.0        -5      1     -1       300   \n",
       "189          -14.9    ...     -56.0  -38.0         7      1      1      1250   \n",
       "190          -35.2    ...    -167.0  170.0         6      2      1     -1250   \n",
       "191           12.4    ...      13.0   -8.0         9      1      2      -300   \n",
       "192         -178.3    ...     -19.0    2.0         0     -1      1       600   \n",
       "193          -22.1    ...     -46.0    7.0        -3      0      0       300   \n",
       "194           80.4    ...      26.0   13.0        -3     -1      0       300   \n",
       "195          -84.9    ...     -23.0  -16.0        -7     -2      0      -650   \n",
       "196           -0.1    ...     -26.0  -37.0        -9     -3      2       650   \n",
       "197           59.6    ...     -52.0  -52.0       -11     -3     -1       650   \n",
       "198          -55.5    ...      21.0   -9.0         3     -1      0         0   \n",
       "199           39.9    ...     -23.0   22.0       -10     -3     -1       300   \n",
       "200           53.3    ...       0.0    1.0        -5      0     -1       650   \n",
       "201          -53.4    ...     -63.0  -10.0        -2     -1     -1      -300   \n",
       "202           45.4    ...      13.0   -6.0        -7     -2     -1       900   \n",
       "203         -116.0    ...      49.0  168.0        -3      0     -1         0   \n",
       "\n",
       "     Rank_Jg  Rank_Mid  Rank_ADC  Rank_Sup  \n",
       "0       -600       950     650.0    -650.0  \n",
       "1       -650         0       0.0    -650.0  \n",
       "2          0      -300    -650.0     650.0  \n",
       "3          0       650       0.0    -300.0  \n",
       "4       -300       300    -600.0    -300.0  \n",
       "5        350      -650       0.0       0.0  \n",
       "6          0         0       0.0     300.0  \n",
       "7          0         0       0.0       0.0  \n",
       "8       -300      -650    -350.0     650.0  \n",
       "9          0      -300     650.0    -650.0  \n",
       "10       300      -300       0.0    -350.0  \n",
       "11       300      -300     300.0       0.0  \n",
       "12         0       650       0.0    -950.0  \n",
       "13      -650      -300    -650.0    -300.0  \n",
       "14      -300         0       0.0       0.0  \n",
       "15      -300      -300     650.0    -950.0  \n",
       "16      -300       300       0.0       0.0  \n",
       "17         0         0    -650.0    -650.0  \n",
       "18         0         0     350.0    -600.0  \n",
       "19      -350       350     650.0    -350.0  \n",
       "20       350      -650       0.0       0.0  \n",
       "21      -300       300     650.0     300.0  \n",
       "22         0         0     350.0       0.0  \n",
       "23         0         0       0.0       0.0  \n",
       "24       350         0     350.0    -350.0  \n",
       "25      -650      -350       0.0    -300.0  \n",
       "26       300      -350    -350.0    -300.0  \n",
       "27      -650       650    -650.0     300.0  \n",
       "28      -650      -300    -300.0     650.0  \n",
       "29         0      -300       0.0    -650.0  \n",
       "..       ...       ...       ...       ...  \n",
       "174     -600       300     950.0    -300.0  \n",
       "175        0      -650    -950.0     300.0  \n",
       "176      600       950       0.0    -950.0  \n",
       "177      950      -950       0.0     650.0  \n",
       "178        0      -650       0.0   -1250.0  \n",
       "179        0         0       0.0     300.0  \n",
       "180        0      1250    -300.0       0.0  \n",
       "181     1250         0       0.0   -1250.0  \n",
       "182    -1250      1550     450.0    -350.0  \n",
       "183     1250       600    1250.0     300.0  \n",
       "184      300      -950     600.0    -300.0  \n",
       "185     -300         0     300.0    -300.0  \n",
       "186     1250       950    -300.0       0.0  \n",
       "187     -900      -950       0.0    -950.0  \n",
       "188      600       950    -650.0    -300.0  \n",
       "189    -1250         0    1250.0    1250.0  \n",
       "190     -950      1250       0.0    1250.0  \n",
       "191     1250      -350    -600.0     650.0  \n",
       "192     1250      1250     300.0    -300.0  \n",
       "193      950      -950     300.0       0.0  \n",
       "194        0      -950    -300.0    1250.0  \n",
       "195      950      -950       0.0    -950.0  \n",
       "196        0         0    -650.0    -900.0  \n",
       "197        0      -300     950.0    -300.0  \n",
       "198     -300       300    -300.0       0.0  \n",
       "199     -300         0    -300.0    1250.0  \n",
       "200      950       300     650.0     300.0  \n",
       "201        0      -300    -950.0     650.0  \n",
       "202        0      -300       0.0    -300.0  \n",
       "203        0      -300     300.0    -300.0  \n",
       "\n",
       "[3489 rows x 70 columns]"
      ]
     },
     "execution_count": 284,
     "metadata": {},
     "output_type": "execute_result"
    }
   ],
   "source": [
    "data"
   ]
  },
  {
   "cell_type": "code",
   "execution_count": 15,
   "metadata": {
    "collapsed": false
   },
   "outputs": [],
   "source": [
    "where_are_NaNs = np.isnan(X)\n",
    "X[where_are_NaNs] = 0\n",
    "\n",
    "Y[Y==100]=1\n",
    "Y[Y==200]=0"
   ]
  },
  {
   "cell_type": "code",
   "execution_count": 187,
   "metadata": {
    "collapsed": false
   },
   "outputs": [
    {
     "data": {
      "text/plain": [
       "False"
      ]
     },
     "execution_count": 187,
     "metadata": {},
     "output_type": "execute_result"
    }
   ],
   "source": [
    "np.any(np.isnan(X))"
   ]
  },
  {
   "cell_type": "markdown",
   "metadata": {},
   "source": [
    "Divide the dataset into two part: test and train. The test part will be used to do the final performance evaluation, while cross validation process will take place in the train dataset."
   ]
  },
  {
   "cell_type": "code",
   "execution_count": 17,
   "metadata": {
    "collapsed": false
   },
   "outputs": [],
   "source": [
    "XX, X_TEST, YY, Y_TEST = train_test_split(X, Y, test_size=0.1, random_state=42)"
   ]
  },
  {
   "cell_type": "markdown",
   "metadata": {},
   "source": [
    "We first use KNN. "
   ]
  },
  {
   "cell_type": "code",
   "execution_count": 18,
   "metadata": {
    "collapsed": false
   },
   "outputs": [],
   "source": [
    "from sklearn.metrics import roc_curve, auc\n",
    "from sklearn.model_selection import StratifiedKFold, train_test_split\n",
    "from sklearn.neighbors import KNeighborsClassifier\n",
    "from sklearn.feature_selection import SelectKBest"
   ]
  },
  {
   "cell_type": "code",
   "execution_count": 94,
   "metadata": {
    "collapsed": false
   },
   "outputs": [
    {
     "data": {
      "text/plain": [
       "(3140, 63)"
      ]
     },
     "execution_count": 94,
     "metadata": {},
     "output_type": "execute_result"
    }
   ],
   "source": [
    "XX.shape"
   ]
  },
  {
   "cell_type": "markdown",
   "metadata": {},
   "source": [
    "# 1. Using K-Nearest Neighbors"
   ]
  },
  {
   "cell_type": "markdown",
   "metadata": {},
   "source": [
    "## a. Prematch information"
   ]
  },
  {
   "cell_type": "code",
   "execution_count": 128,
   "metadata": {
    "collapsed": false
   },
   "outputs": [],
   "source": [
    "XX_Prematch=XX[:,58:63]\n",
    "X_TEST_Prematch=X_TEST[:,58:63]"
   ]
  },
  {
   "cell_type": "code",
   "execution_count": 188,
   "metadata": {
    "collapsed": true
   },
   "outputs": [],
   "source": [
    "from sklearn.preprocessing import StandardScaler\n",
    "X_scaler=StandardScaler()\n",
    "X_scaler.fit(XX_Prematch)\n",
    "XX_pre_scaled=X_scaler.transform(XX_Prematch)   \n",
    "X_TEST_pre_scaled=X_scaler.transform(X_TEST_Prematch)"
   ]
  },
  {
   "cell_type": "code",
   "execution_count": 133,
   "metadata": {
    "collapsed": true
   },
   "outputs": [],
   "source": [
    "skf = StratifiedKFold(n_splits=5)\n",
    "X=XX_pre_scaled\n",
    "y=YY\n",
    "splits_training_auc =[]\n",
    "splits_test_auc =[]\n",
    "\n",
    "features_settings=range(1,6)\n",
    "neighbors_settings=range(1,50)\n",
    "\n",
    "train_auc_3d_pre=np.zeros((5,5,50))\n",
    "test_auc_3d_pre=np.zeros((5,5,50))\n",
    "i=0 #use i,j,k for indexting so that I can store auc value in corresponding position for each iteration \n",
    "for train_index, test_index in skf.split(X, y):\n",
    "    X_train, X_test = X[train_index], X[test_index]\n",
    "    y_train, y_test = y[train_index], y[test_index]    \n",
    "    j=0\n",
    "    for features in features_settings:\n",
    "        \n",
    "        feature_selector=SelectKBest(k=features)\n",
    "        feature_selector.fit(X_train,y_train)\n",
    "        X_train_rescaled_subset=feature_selector.transform(X_train)\n",
    "        X_test_rescaled_subset=feature_selector.transform(X_test)\n",
    "        k=0\n",
    "        for n_neighbors in neighbors_settings:        \n",
    "            # fit classifier\n",
    "            clf = KNeighborsClassifier(n_neighbors=n_neighbors)\n",
    "            clf.fit(X_train_rescaled_subset, y_train)\n",
    "        \n",
    "        \n",
    "            # training\n",
    "            dec_stat=clf.predict_proba(X_train_rescaled_subset)[:,0]\n",
    "            fpr, tpr, _ = roc_curve(y_train,dec_stat,pos_label=0)\n",
    "            roc_auc = auc(fpr, tpr)\n",
    "            train_auc_3d_pre[i,j,k]=roc_auc\n",
    "            #training_auc.append(roc_auc)\n",
    "            \n",
    "            # testing\n",
    "            dec_stat=clf.predict_proba(X_test_rescaled_subset)[:,0]\n",
    "            fpr, tpr, _ = roc_curve(y_test,dec_stat,pos_label=0)\n",
    "            roc_auc = auc(fpr, tpr)\n",
    "            test_auc_3d_pre[i,j,k]=roc_auc\n",
    "            k=k+1\n",
    "        j=j+1\n",
    "    i=i+1"
   ]
  },
  {
   "cell_type": "code",
   "execution_count": 138,
   "metadata": {
    "collapsed": true
   },
   "outputs": [],
   "source": [
    "#determine number of features to keep\n",
    "step1_train=np.mean(train_auc_3d_pre,axis=0)#first average across cross-validation\n",
    "step2_train=np.mean(step1_train,axis=1)#then average across different number of neighbors\n",
    "#print(step2_train)\n",
    "\n",
    "step1_test=np.mean(test_auc_3d_pre,axis=0)#first average across cross-validation\n",
    "step2_test=np.mean(step1_test,axis=1)#then average across different number of neighbors\n",
    "#print(step2_test)"
   ]
  },
  {
   "cell_type": "code",
   "execution_count": 139,
   "metadata": {
    "collapsed": false
   },
   "outputs": [
    {
     "data": {
      "text/plain": [
       "<matplotlib.legend.Legend at 0x7fc240b3be10>"
      ]
     },
     "execution_count": 139,
     "metadata": {},
     "output_type": "execute_result"
    },
    {
     "data": {
      "image/png": "[encoded data removed]",
      "text/plain": [
       "<matplotlib.figure.Figure at 0x7fc240f10c88>"
      ]
     },
     "metadata": {},
     "output_type": "display_data"
    }
   ],
   "source": [
    "fig=plt.figure()\n",
    "plt.plot(features_settings, step2_train, label=\"training auc\")\n",
    "plt.plot(features_settings, step2_test, label=\"test auc\")\n",
    "plt.ylabel(\"AUC\")\n",
    "plt.xlabel(\"n_features\")\n",
    "plt.legend()"
   ]
  },
  {
   "cell_type": "code",
   "execution_count": 140,
   "metadata": {
    "collapsed": false
   },
   "outputs": [
    {
     "data": {
      "text/plain": [
       "3"
      ]
     },
     "execution_count": 140,
     "metadata": {},
     "output_type": "execute_result"
    }
   ],
   "source": [
    "np.argmax(step2_test)"
   ]
  },
  {
   "cell_type": "markdown",
   "metadata": {},
   "source": [
    "4 features."
   ]
  },
  {
   "cell_type": "code",
   "execution_count": 136,
   "metadata": {
    "collapsed": false
   },
   "outputs": [
    {
     "name": "stdout",
     "output_type": "stream",
     "text": [
      "[ 0.99504545  0.92964689  0.89509036  0.87414503  0.85946498  0.84892651\n",
      "  0.84101979  0.83463352  0.82945204  0.82493003  0.82143704  0.81804685\n",
      "  0.81497807  0.81232418  0.81008768  0.80798335  0.80587635  0.80403298\n",
      "  0.80229996  0.80075264  0.79943621  0.79804426  0.79675373  0.79559468\n",
      "  0.79431327  0.79321596  0.79213573  0.79121468  0.7902975   0.78938365\n",
      "  0.78850545  0.78762844  0.78675663  0.78601894  0.7852488   0.78437105\n",
      "  0.78355594  0.78281127  0.78213334  0.78139264  0.7806022   0.77989896\n",
      "  0.77930937  0.77861903  0.77793584  0.77729148  0.77663735  0.77600665\n",
      "  0.7754527   0.        ]\n",
      "[ 0.62255791  0.66833121  0.69179132  0.70533987  0.7161676   0.72314548\n",
      "  0.72978158  0.73352204  0.73689304  0.73919082  0.7415515   0.74399462\n",
      "  0.7458047   0.74687719  0.74804514  0.74881145  0.74979788  0.7502522\n",
      "  0.75046723  0.75121525  0.75161617  0.75212241  0.75246952  0.75277309\n",
      "  0.75296521  0.75331344  0.75331852  0.75370632  0.75360906  0.75360966\n",
      "  0.7538331   0.75397518  0.75399386  0.75379763  0.75370922  0.75372478\n",
      "  0.75372802  0.75350646  0.7535415   0.75345873  0.75323297  0.75327105\n",
      "  0.75308627  0.75302487  0.75299162  0.75280958  0.75257268  0.75242611\n",
      "  0.75234124  0.        ]\n"
     ]
    }
   ],
   "source": [
    "#determine number of neighbors in KNN\n",
    "step1_train=np.mean(train_auc_3d_10,axis=0)#first average across cross-validation\n",
    "step2_train=np.mean(step1_train,axis=0)#then average across different number of neighbors\n",
    "print(step2_train)\n",
    "\n",
    "step1_test=np.mean(test_auc_3d_10,axis=0)#first average across cross-validation\n",
    "step2_test=np.mean(step1_test,axis=0)#then average across different number of neighbors\n",
    "print(step2_test)"
   ]
  },
  {
   "cell_type": "code",
   "execution_count": 137,
   "metadata": {
    "collapsed": false
   },
   "outputs": [
    {
     "data": {
      "text/plain": [
       "<matplotlib.legend.Legend at 0x7fc240fbc7b8>"
      ]
     },
     "execution_count": 137,
     "metadata": {},
     "output_type": "execute_result"
    },
    {
     "data": {
      "image/png": "[encoded data removed]",
      "text/plain": [
       "<matplotlib.figure.Figure at 0x7fc240c19a90>"
      ]
     },
     "metadata": {},
     "output_type": "display_data"
    }
   ],
   "source": [
    "fig=plt.figure()\n",
    "plt.plot(neighbors_settings, step2_train[0:49], label=\"training auc\")\n",
    "plt.plot(neighbors_settings, step2_test[0:49], label=\"test auc\")\n",
    "plt.ylabel(\"AUC\")\n",
    "plt.xlabel(\"n_neighbors\")\n",
    "plt.legend()"
   ]
  },
  {
   "cell_type": "markdown",
   "metadata": {},
   "source": [
    "The more neighbors, the better."
   ]
  },
  {
   "cell_type": "code",
   "execution_count": 189,
   "metadata": {
    "collapsed": false
   },
   "outputs": [
    {
     "data": {
      "text/plain": [
       "0.54945616348055382"
      ]
     },
     "execution_count": 189,
     "metadata": {},
     "output_type": "execute_result"
    }
   ],
   "source": [
    "feature_selector=SelectKBest(k=4)\n",
    "feature_selector.fit(XX_pre_scaled,YY)\n",
    "X_selected=feature_selector.transform(XX_pre_scaled)#all data\n",
    "clf = KNeighborsClassifier(n_neighbors=50)\n",
    "clf.fit(X_selected, YY)\n",
    "\n",
    "X_test=feature_selector.transform(X_TEST_pre_scaled)\n",
    "\n",
    "dec_stat=clf.predict_proba(X_test)[:,0]\n",
    "fpr, tpr, _ = roc_curve(Y_TEST,dec_stat,pos_label=0)\n",
    "roc_auc = auc(fpr, tpr)\n",
    "roc_auc"
   ]
  },
  {
   "cell_type": "markdown",
   "metadata": {},
   "source": [
    "## b. 10-minute Information"
   ]
  },
  {
   "cell_type": "code",
   "execution_count": 74,
   "metadata": {
    "collapsed": false
   },
   "outputs": [],
   "source": [
    "XX_10=XX[:,list(range(0,20))+list(range(58,63))]\n",
    "X_TEST_10=X_TEST[:,list(range(0,20))+list(range(58,63))]\n",
    "\n"
   ]
  },
  {
   "cell_type": "code",
   "execution_count": 76,
   "metadata": {
    "collapsed": false
   },
   "outputs": [],
   "source": [
    "from sklearn.preprocessing import StandardScaler\n",
    "X_scaler=StandardScaler()\n",
    "X_scaler.fit(XX_10)\n",
    "XX_10_scaled=X_scaler.transform(XX_10)   \n",
    "X_TEST_10_scaled=X_scaler.transform(X_TEST_10)"
   ]
  },
  {
   "cell_type": "code",
   "execution_count": 116,
   "metadata": {
    "collapsed": false
   },
   "outputs": [
    {
     "data": {
      "text/plain": [
       "(3140, 25)"
      ]
     },
     "execution_count": 116,
     "metadata": {},
     "output_type": "execute_result"
    }
   ],
   "source": [
    "XX_10_scaled.shape"
   ]
  },
  {
   "cell_type": "code",
   "execution_count": 117,
   "metadata": {
    "collapsed": false
   },
   "outputs": [],
   "source": [
    "skf = StratifiedKFold(n_splits=5)\n",
    "X=XX_10_scaled\n",
    "y=YY\n",
    "splits_training_auc =[]\n",
    "splits_test_auc =[]\n",
    "\n",
    "features_settings=range(1,25)\n",
    "neighbors_settings=range(1,50)\n",
    "\n",
    "train_auc_3d_10=np.zeros((5,24,50))\n",
    "test_auc_3d_10=np.zeros((5,24,50))\n",
    "i=0 #use i,j,k for indexting so that I can store auc value in corresponding position for each iteration \n",
    "for train_index, test_index in skf.split(X, y):\n",
    "    X_train, X_test = X[train_index], X[test_index]\n",
    "    y_train, y_test = y[train_index], y[test_index]    \n",
    "    j=0\n",
    "    for features in features_settings:\n",
    "        \n",
    "        feature_selector=SelectKBest(k=features)\n",
    "        feature_selector.fit(X_train,y_train)\n",
    "        X_train_rescaled_subset=feature_selector.transform(X_train)\n",
    "        X_test_rescaled_subset=feature_selector.transform(X_test)\n",
    "        k=0\n",
    "        for n_neighbors in neighbors_settings:        \n",
    "            # fit classifier\n",
    "            clf = KNeighborsClassifier(n_neighbors=n_neighbors)\n",
    "            clf.fit(X_train_rescaled_subset, y_train)\n",
    "        \n",
    "        \n",
    "            # training\n",
    "            dec_stat=clf.predict_proba(X_train_rescaled_subset)[:,0]\n",
    "            fpr, tpr, _ = roc_curve(y_train,dec_stat,pos_label=0)\n",
    "            roc_auc = auc(fpr, tpr)\n",
    "            train_auc_3d_10[i,j,k]=roc_auc\n",
    "            #training_auc.append(roc_auc)\n",
    "            \n",
    "            # testing\n",
    "            dec_stat=clf.predict_proba(X_test_rescaled_subset)[:,0]\n",
    "            fpr, tpr, _ = roc_curve(y_test,dec_stat,pos_label=0)\n",
    "            roc_auc = auc(fpr, tpr)\n",
    "            test_auc_3d_10[i,j,k]=roc_auc\n",
    "            k=k+1\n",
    "        j=j+1\n",
    "    i=i+1"
   ]
  },
  {
   "cell_type": "code",
   "execution_count": 118,
   "metadata": {
    "collapsed": true
   },
   "outputs": [],
   "source": [
    "#determine number of features to keep\n",
    "step1_train=np.mean(train_auc_3d_10,axis=0)#first average across cross-validation\n",
    "step2_train=np.mean(step1_train,axis=1)#then average across different number of neighbors\n",
    "#print(step2_train)\n",
    "\n",
    "step1_test=np.mean(test_auc_3d_10,axis=0)#first average across cross-validation\n",
    "step2_test=np.mean(step1_test,axis=1)#then average across different number of neighbors\n",
    "#print(step2_test)"
   ]
  },
  {
   "cell_type": "code",
   "execution_count": 119,
   "metadata": {
    "collapsed": false
   },
   "outputs": [
    {
     "data": {
      "text/plain": [
       "<matplotlib.legend.Legend at 0x7fc240d06cc0>"
      ]
     },
     "execution_count": 119,
     "metadata": {},
     "output_type": "execute_result"
    },
    {
     "data": {
      "image/png": "[encoded data removed]",
      "text/plain": [
       "<matplotlib.figure.Figure at 0x7fc240dc33c8>"
      ]
     },
     "metadata": {},
     "output_type": "display_data"
    }
   ],
   "source": [
    "fig=plt.figure()\n",
    "plt.plot(features_settings, step2_train, label=\"training auc\")\n",
    "plt.plot(features_settings, step2_test, label=\"test auc\")\n",
    "plt.ylabel(\"AUC\")\n",
    "plt.xlabel(\"n_features\")\n",
    "plt.legend()"
   ]
  },
  {
   "cell_type": "code",
   "execution_count": 120,
   "metadata": {
    "collapsed": false
   },
   "outputs": [
    {
     "data": {
      "text/plain": [
       "9"
      ]
     },
     "execution_count": 120,
     "metadata": {},
     "output_type": "execute_result"
    }
   ],
   "source": [
    "np.argmax(step2_test)"
   ]
  },
  {
   "cell_type": "markdown",
   "metadata": {},
   "source": [
    "10 features."
   ]
  },
  {
   "cell_type": "code",
   "execution_count": 123,
   "metadata": {
    "collapsed": false
   },
   "outputs": [
    {
     "name": "stdout",
     "output_type": "stream",
     "text": [
      "[ 0.99504545  0.92964689  0.89509036  0.87414503  0.85946498  0.84892651\n",
      "  0.84101979  0.83463352  0.82945204  0.82493003  0.82143704  0.81804685\n",
      "  0.81497807  0.81232418  0.81008768  0.80798335  0.80587635  0.80403298\n",
      "  0.80229996  0.80075264  0.79943621  0.79804426  0.79675373  0.79559468\n",
      "  0.79431327  0.79321596  0.79213573  0.79121468  0.7902975   0.78938365\n",
      "  0.78850545  0.78762844  0.78675663  0.78601894  0.7852488   0.78437105\n",
      "  0.78355594  0.78281127  0.78213334  0.78139264  0.7806022   0.77989896\n",
      "  0.77930937  0.77861903  0.77793584  0.77729148  0.77663735  0.77600665\n",
      "  0.7754527   0.        ]\n",
      "[ 0.62255791  0.66833121  0.69179132  0.70533987  0.7161676   0.72314548\n",
      "  0.72978158  0.73352204  0.73689304  0.73919082  0.7415515   0.74399462\n",
      "  0.7458047   0.74687719  0.74804514  0.74881145  0.74979788  0.7502522\n",
      "  0.75046723  0.75121525  0.75161617  0.75212241  0.75246952  0.75277309\n",
      "  0.75296521  0.75331344  0.75331852  0.75370632  0.75360906  0.75360966\n",
      "  0.7538331   0.75397518  0.75399386  0.75379763  0.75370922  0.75372478\n",
      "  0.75372802  0.75350646  0.7535415   0.75345873  0.75323297  0.75327105\n",
      "  0.75308627  0.75302487  0.75299162  0.75280958  0.75257268  0.75242611\n",
      "  0.75234124  0.        ]\n"
     ]
    }
   ],
   "source": [
    "#determine number of neighbors in KNN\n",
    "step1_train=np.mean(train_auc_3d_10,axis=0)#first average across cross-validation\n",
    "step2_train=np.mean(step1_train,axis=0)#then average across different number of neighbors\n",
    "print(step2_train)\n",
    "\n",
    "step1_test=np.mean(test_auc_3d_10,axis=0)#first average across cross-validation\n",
    "step2_test=np.mean(step1_test,axis=0)#then average across different number of neighbors\n",
    "print(step2_test)"
   ]
  },
  {
   "cell_type": "code",
   "execution_count": 125,
   "metadata": {
    "collapsed": false
   },
   "outputs": [
    {
     "data": {
      "text/plain": [
       "<matplotlib.legend.Legend at 0x7fc240bc5710>"
      ]
     },
     "execution_count": 125,
     "metadata": {},
     "output_type": "execute_result"
    },
    {
     "data": {
      "image/png": "[encoded data removed]",
      "text/plain": [
       "<matplotlib.figure.Figure at 0x7fc240cae748>"
      ]
     },
     "metadata": {},
     "output_type": "display_data"
    }
   ],
   "source": [
    "fig=plt.figure()\n",
    "plt.plot(neighbors_settings, step2_train[0:49], label=\"training auc\")\n",
    "plt.plot(neighbors_settings, step2_test[0:49], label=\"test auc\")\n",
    "plt.ylabel(\"AUC\")\n",
    "plt.xlabel(\"n_neighbors\")\n",
    "plt.legend()"
   ]
  },
  {
   "cell_type": "code",
   "execution_count": 211,
   "metadata": {
    "collapsed": false
   },
   "outputs": [
    {
     "data": {
      "text/plain": [
       "0.79499011206328274"
      ]
     },
     "execution_count": 211,
     "metadata": {},
     "output_type": "execute_result"
    }
   ],
   "source": [
    "feature_selector=SelectKBest(k=10)\n",
    "feature_selector.fit(XX_10_scaled,YY)\n",
    "X_selected=feature_selector.transform(XX_10_scaled)#all data\n",
    "clf = KNeighborsClassifier(n_neighbors=50)\n",
    "clf.fit(X_selected, YY)\n",
    "\n",
    "X_test=feature_selector.transform(X_TEST_10_scaled)\n",
    "\n",
    "dec_stat=clf.predict_proba(X_test)[:,0]\n",
    "fpr, tpr, _ = roc_curve(Y_TEST,dec_stat,pos_label=0)\n",
    "roc_auc = auc(fpr, tpr)\n",
    "roc_auc"
   ]
  },
  {
   "cell_type": "code",
   "execution_count": 212,
   "metadata": {
    "collapsed": true
   },
   "outputs": [],
   "source": [
    "idxs_selected = feature_selector.get_support(indices=True)"
   ]
  },
  {
   "cell_type": "code",
   "execution_count": 213,
   "metadata": {
    "collapsed": false
   },
   "outputs": [
    {
     "data": {
      "text/plain": [
       "array([ 0,  1,  2,  3,  4,  8,  9, 12, 13, 14])"
      ]
     },
     "execution_count": 213,
     "metadata": {},
     "output_type": "execute_result"
    }
   ],
   "source": [
    "idxs_selected"
   ]
  },
  {
   "cell_type": "code",
   "execution_count": 371,
   "metadata": {
    "collapsed": false
   },
   "outputs": [
    {
     "data": {
      "text/plain": [
       "3140"
      ]
     },
     "execution_count": 371,
     "metadata": {},
     "output_type": "execute_result"
    }
   ],
   "source": [
    "len(XX)"
   ]
  },
  {
   "cell_type": "code",
   "execution_count": 339,
   "metadata": {
    "collapsed": false
   },
   "outputs": [
    {
     "data": {
      "text/plain": [
       "array([ 0.,  0.,  0.,  0.,  0.,  0.,  0.,  0.,  0.,  0.])"
      ]
     },
     "execution_count": 339,
     "metadata": {},
     "output_type": "execute_result"
    }
   ],
   "source": [
    "scale_accuracy"
   ]
  },
  {
   "cell_type": "code",
   "execution_count": 373,
   "metadata": {
    "collapsed": false
   },
   "outputs": [],
   "source": []
  },
  {
   "cell_type": "code",
   "execution_count": 374,
   "metadata": {
    "collapsed": false
   },
   "outputs": [],
   "source": [
    "import random\n",
    "#ind=random.sample(range(0,len(XX)), 300*(i+1))\n",
    "KNN_10_accuracy=np.zeros((10,20))\n",
    "XX_10=XX[:,list(range(0,20))+list(range(58,63))]\n",
    "X_TEST_10=X_TEST[:,list(range(0,20))+list(range(58,63))]\n",
    "\n",
    "from sklearn.preprocessing import StandardScaler\n",
    "X_scaler=StandardScaler()\n",
    "X_scaler.fit(XX_10)\n",
    "XX_10_scaled=X_scaler.transform(XX_10)   \n",
    "X_TEST_10_scaled=X_scaler.transform(X_TEST_10)"
   ]
  },
  {
   "cell_type": "code",
   "execution_count": 375,
   "metadata": {
    "collapsed": false
   },
   "outputs": [],
   "source": [
    "for j in range(10):\n",
    "    for i in range(20):\n",
    "        ind=random.sample(range(0,len(XX)), 150*(i+1))\n",
    "\n",
    "        XX_10_ind=XX_10_scaled[ind]\n",
    "        YY_ind=YY[ind]\n",
    "\n",
    "        feature_selector=SelectKBest(k=10)\n",
    "        feature_selector.fit(XX_10_ind,YY_ind)\n",
    "        X_selected=feature_selector.transform(XX_10_ind)#all data\n",
    "        clf = KNeighborsClassifier(n_neighbors=50)\n",
    "        clf.fit(X_selected, YY_ind)\n",
    "\n",
    "        X_test=feature_selector.transform(X_TEST_10_scaled)\n",
    "\n",
    "        dec_stat=clf.predict_proba(X_test)[:,0]\n",
    "        fpr, tpr, _ = roc_curve(Y_TEST,dec_stat,pos_label=0)\n",
    "        roc_auc = auc(fpr, tpr)\n",
    "        KNN_10_accuracy[j,i]=roc_auc\n",
    "    "
   ]
  },
  {
   "cell_type": "code",
   "execution_count": 376,
   "metadata": {
    "collapsed": false
   },
   "outputs": [
    {
     "data": {
      "text/plain": [
       "[<matplotlib.lines.Line2D at 0x7fc23ecc47f0>]"
      ]
     },
     "execution_count": 376,
     "metadata": {},
     "output_type": "execute_result"
    },
    {
     "data": {
      "image/png": "[encoded data removed]",
      "text/plain": [
       "<matplotlib.figure.Figure at 0x7fc23ed5e550>"
      ]
     },
     "metadata": {},
     "output_type": "display_data"
    }
   ],
   "source": [
    "plt.figure()\n",
    "plt.plot(150*(np.arange(20)+1),np.mean(KNN_10_accuracy,axis=0))"
   ]
  },
  {
   "cell_type": "code",
   "execution_count": 340,
   "metadata": {
    "collapsed": false
   },
   "outputs": [
    {
     "data": {
      "text/plain": [
       "3140"
      ]
     },
     "execution_count": 340,
     "metadata": {},
     "output_type": "execute_result"
    }
   ],
   "source": [
    "len(XX)"
   ]
  },
  {
   "cell_type": "markdown",
   "metadata": {},
   "source": [
    "features_dataframe_new = features_dataframe[idxs_selected]"
   ]
  },
  {
   "cell_type": "markdown",
   "metadata": {},
   "source": [
    "## c. Full Information"
   ]
  },
  {
   "cell_type": "code",
   "execution_count": 196,
   "metadata": {
    "collapsed": false
   },
   "outputs": [],
   "source": [
    "from sklearn.preprocessing import StandardScaler\n",
    "X_scaler=StandardScaler()\n",
    "X_scaler.fit(XX)\n",
    "XX_scaled=X_scaler.transform(XX)   \n",
    "X_TEST_scaled=X_scaler.transform(X_TEST)"
   ]
  },
  {
   "cell_type": "code",
   "execution_count": 20,
   "metadata": {
    "collapsed": false
   },
   "outputs": [],
   "source": [
    "skf = StratifiedKFold(n_splits=5)\n",
    "X=XX_scaled\n",
    "y=YY\n",
    "splits_training_auc =[]\n",
    "splits_test_auc =[]\n",
    "\n",
    "features_settings=range(1,40)\n",
    "neighbors_settings=range(1,40)\n",
    "\n",
    "train_auc_3d=np.zeros((5,40,40))\n",
    "test_auc_3d=np.zeros((5,40,40))\n",
    "i=0 #use i,j,k for indexting so that I can store auc value in corresponding position for each iteration \n",
    "for train_index, test_index in skf.split(X, y):\n",
    "    X_train, X_test = X[train_index], X[test_index]\n",
    "    y_train, y_test = y[train_index], y[test_index]    \n",
    "    j=0\n",
    "    for features in features_settings:\n",
    "        \n",
    "        feature_selector=SelectKBest(k=features)\n",
    "        feature_selector.fit(X_train,y_train)\n",
    "        X_train_rescaled_subset=feature_selector.transform(X_train)\n",
    "        X_test_rescaled_subset=feature_selector.transform(X_test)\n",
    "        k=0\n",
    "        for n_neighbors in neighbors_settings:        \n",
    "            # fit classifier\n",
    "            clf = KNeighborsClassifier(n_neighbors=n_neighbors)\n",
    "            clf.fit(X_train_rescaled_subset, y_train)\n",
    "        \n",
    "        \n",
    "            # training\n",
    "            dec_stat=clf.predict_proba(X_train_rescaled_subset)[:,0]\n",
    "            fpr, tpr, _ = roc_curve(y_train,dec_stat,pos_label=0)\n",
    "            roc_auc = auc(fpr, tpr)\n",
    "            train_auc_3d[i,j,k]=roc_auc\n",
    "            #training_auc.append(roc_auc)\n",
    "            \n",
    "            # testing\n",
    "            dec_stat=clf.predict_proba(X_test_rescaled_subset)[:,0]\n",
    "            fpr, tpr, _ = roc_curve(y_test,dec_stat,pos_label=0)\n",
    "            roc_auc = auc(fpr, tpr)\n",
    "            test_auc_3d[i,j,k]=roc_auc\n",
    "            k=k+1\n",
    "        j=j+1\n",
    "    i=i+1"
   ]
  },
  {
   "cell_type": "code",
   "execution_count": 103,
   "metadata": {
    "collapsed": true
   },
   "outputs": [],
   "source": [
    "#determine number of features to keep\n",
    "step1_train=np.mean(train_auc_3d,axis=0)#first average across cross-validation\n",
    "step2_train=np.mean(step1_train,axis=1)#then average across different number of neighbors\n",
    "#print(step2_train)\n",
    "\n",
    "step1_test=np.mean(test_auc_3d,axis=0)#first average across cross-validation\n",
    "step2_test=np.mean(step1_test,axis=1)#then average across different number of neighbors\n",
    "#print(step2_test)"
   ]
  },
  {
   "cell_type": "code",
   "execution_count": 104,
   "metadata": {
    "collapsed": false
   },
   "outputs": [
    {
     "data": {
      "text/plain": [
       "array([ 0.96213972,  0.96938871,  0.97023688,  0.96973412,  0.97127509,\n",
       "        0.97043317,  0.97039846,  0.96980714,  0.9700332 ,  0.97026824,\n",
       "        0.96988293,  0.96978237,  0.96951616,  0.96938576,  0.96799481,\n",
       "        0.96782408,  0.96661947,  0.9660601 ,  0.96633439,  0.96625655,\n",
       "        0.96575802,  0.96550922,  0.96518647,  0.96416019,  0.96489714,\n",
       "        0.96366128,  0.96335381,  0.96370484,  0.96255159,  0.96179756,\n",
       "        0.96193427,  0.96223317,  0.9620046 ,  0.95992734,  0.95860351,\n",
       "        0.95895149,  0.95967243,  0.95923072,  0.95888267,  0.        ])"
      ]
     },
     "execution_count": 104,
     "metadata": {},
     "output_type": "execute_result"
    }
   ],
   "source": [
    "step2_test"
   ]
  },
  {
   "cell_type": "code",
   "execution_count": 105,
   "metadata": {
    "collapsed": false
   },
   "outputs": [
    {
     "data": {
      "text/plain": [
       "array([ 0.96267676,  0.97359585,  0.97379764,  0.97380445,  0.97388921,\n",
       "        0.97372249,  0.97354471,  0.97334324,  0.97334908,  0.97340803,\n",
       "        0.9733935 ,  0.97334771,  0.97327096,  0.97312756,  0.97295954,\n",
       "        0.97289131,  0.97266479,  0.97255595,  0.97249801,  0.97238465,\n",
       "        0.97228523,  0.97217575,  0.97211476,  0.97188288,  0.97170993,\n",
       "        0.97161028,  0.97130226,  0.97121696,  0.97101182,  0.97083445,\n",
       "        0.97064217,  0.97052321,  0.9703703 ,  0.97024473,  0.97018899,\n",
       "        0.97004289,  0.96985264,  0.96978929,  0.96965373,  0.        ])"
      ]
     },
     "execution_count": 105,
     "metadata": {},
     "output_type": "execute_result"
    }
   ],
   "source": [
    "step2_train"
   ]
  },
  {
   "cell_type": "code",
   "execution_count": 106,
   "metadata": {
    "collapsed": false
   },
   "outputs": [
    {
     "data": {
      "text/plain": [
       "<matplotlib.legend.Legend at 0x7fc240e9f128>"
      ]
     },
     "execution_count": 106,
     "metadata": {},
     "output_type": "execute_result"
    },
    {
     "data": {
      "image/png": "[encoded data removed]",
      "text/plain": [
       "<matplotlib.figure.Figure at 0x7fc240ed6940>"
      ]
     },
     "metadata": {},
     "output_type": "display_data"
    }
   ],
   "source": [
    "fig=plt.figure()\n",
    "plt.plot(range(0,39), step2_train[0:39], label=\"training auc\")\n",
    "plt.plot(range(0,39), step2_test[0:39], label=\"test auc\")\n",
    "plt.ylabel(\"AUC\")\n",
    "plt.xlabel(\"n_features\")\n",
    "plt.legend()"
   ]
  },
  {
   "cell_type": "code",
   "execution_count": 41,
   "metadata": {
    "collapsed": false
   },
   "outputs": [
    {
     "data": {
      "text/plain": [
       "4"
      ]
     },
     "execution_count": 41,
     "metadata": {},
     "output_type": "execute_result"
    }
   ],
   "source": [
    "np.argmax(step2_test)"
   ]
  },
  {
   "cell_type": "markdown",
   "metadata": {},
   "source": [
    "5 features to keep."
   ]
  },
  {
   "cell_type": "code",
   "execution_count": 99,
   "metadata": {
    "collapsed": false
   },
   "outputs": [
    {
     "name": "stdout",
     "output_type": "stream",
     "text": [
      "[ 0.97388347  0.97392604  0.97372761  0.97347701  0.97329634  0.97311843\n",
      "  0.97295288  0.97283332  0.97268672  0.97256253  0.9724419   0.97235265\n",
      "  0.97224235  0.97217338  0.97207287  0.97198309  0.97188963  0.97180266\n",
      "  0.97172231  0.9716473   0.97157193  0.97149445  0.97142834  0.97136106\n",
      "  0.97129011  0.97122057  0.97115555  0.97108795  0.97104826  0.97098472\n",
      "  0.97092322  0.97086164  0.97080211  0.97074862  0.97069452  0.97063636\n",
      "  0.97058016  0.97052202  0.97047361  0.        ]\n",
      "[ 0.94332612  0.95705485  0.96111871  0.96312457  0.96444394  0.96530911\n",
      "  0.96569359  0.96599249  0.96627086  0.96641008  0.96656243  0.96670985\n",
      "  0.96671967  0.96686733  0.96691261  0.9669313   0.96693963  0.96698632\n",
      "  0.96698455  0.96697993  0.96698163  0.96695271  0.96695099  0.96693517\n",
      "  0.96689707  0.96687146  0.96684215  0.96680633  0.9667999   0.96675728\n",
      "  0.96672693  0.96669629  0.9666558   0.96661909  0.96658225  0.96653907\n",
      "  0.96651605  0.96648174  0.96644187  0.        ]\n"
     ]
    },
    {
     "data": {
      "text/plain": [
       "0.96698631893094844"
      ]
     },
     "execution_count": 99,
     "metadata": {},
     "output_type": "execute_result"
    }
   ],
   "source": [
    "#determine number of neighbors in KNN\n",
    "step1_train=np.mean(train_auc_3d,axis=0)#first average across cross-validation\n",
    "step2_train=np.mean(step1_train,axis=0)#then average across different number of neighbors\n",
    "print(step2_train)\n",
    "\n",
    "step1_test=np.mean(test_auc_3d,axis=0)#first average across cross-validation\n",
    "step2_test=np.mean(step1_test,axis=0)#then average across different number of neighbors\n",
    "print(step2_test)\n",
    "\n",
    "max(step2_test)"
   ]
  },
  {
   "cell_type": "code",
   "execution_count": 102,
   "metadata": {
    "collapsed": false
   },
   "outputs": [
    {
     "data": {
      "text/plain": [
       "<matplotlib.legend.Legend at 0x7fc240f414a8>"
      ]
     },
     "execution_count": 102,
     "metadata": {},
     "output_type": "execute_result"
    },
    {
     "data": {
      "image/png": "[encoded data removed]",
      "text/plain": [
       "<matplotlib.figure.Figure at 0x7fc240fa7a90>"
      ]
     },
     "metadata": {},
     "output_type": "display_data"
    }
   ],
   "source": [
    "fig=plt.figure()\n",
    "plt.plot(range(0,39), step2_train[0:39], label=\"training auc\")\n",
    "plt.plot(range(0,39), step2_test[0:39], label=\"test auc\")\n",
    "plt.ylabel(\"AUC\")\n",
    "plt.xlabel(\"n_neighbors\")\n",
    "plt.legend()"
   ]
  },
  {
   "cell_type": "code",
   "execution_count": 45,
   "metadata": {
    "collapsed": false
   },
   "outputs": [
    {
     "data": {
      "text/plain": [
       "17"
      ]
     },
     "execution_count": 45,
     "metadata": {},
     "output_type": "execute_result"
    }
   ],
   "source": [
    "np.argmax(step2_test)"
   ]
  },
  {
   "cell_type": "markdown",
   "metadata": {},
   "source": [
    "18 neighbors to keep."
   ]
  },
  {
   "cell_type": "code",
   "execution_count": 197,
   "metadata": {
    "collapsed": false
   },
   "outputs": [
    {
     "data": {
      "text/plain": [
       "0.99497363216875412"
      ]
     },
     "execution_count": 197,
     "metadata": {},
     "output_type": "execute_result"
    }
   ],
   "source": [
    "feature_selector=SelectKBest(k=5)\n",
    "feature_selector.fit(XX_scaled,YY)\n",
    "X_selected=feature_selector.transform(XX_scaled)#all data\n",
    "clf = KNeighborsClassifier(n_neighbors=18)\n",
    "clf.fit(X_selected, YY)\n",
    "\n",
    "X_test=feature_selector.transform(X_TEST_scaled)\n",
    "\n",
    "dec_stat=clf.predict_proba(X_test)[:,0]\n",
    "fpr, tpr, _ = roc_curve(Y_TEST,dec_stat,pos_label=0)\n",
    "roc_auc = auc(fpr, tpr)\n",
    "roc_auc"
   ]
  },
  {
   "cell_type": "code",
   "execution_count": 380,
   "metadata": {
    "collapsed": true
   },
   "outputs": [],
   "source": [
    "import random\n",
    "X_scaler=StandardScaler()\n",
    "X_scaler.fit(XX)\n",
    "XX_scaled=X_scaler.transform(XX)   \n",
    "X_TEST_scaled=X_scaler.transform(X_TEST)\n",
    "\n",
    "KNN_full_accuracy=np.zeros((10,20))"
   ]
  },
  {
   "cell_type": "code",
   "execution_count": 381,
   "metadata": {
    "collapsed": false
   },
   "outputs": [],
   "source": [
    "for j in range(10):\n",
    "    for i in range(20):\n",
    "        ind=random.sample(range(0,len(XX)), 150*(i+1))\n",
    "\n",
    "        XX_ind=XX_scaled[ind]\n",
    "        YY_ind=YY[ind]\n",
    "\n",
    "        feature_selector=SelectKBest(k=10)\n",
    "        feature_selector.fit(XX_ind,YY_ind)\n",
    "        X_selected=feature_selector.transform(XX_ind)#all data\n",
    "        clf = KNeighborsClassifier(n_neighbors=50)\n",
    "        clf.fit(X_selected, YY_ind)\n",
    "\n",
    "        X_test=feature_selector.transform(X_TEST_scaled)\n",
    "\n",
    "        dec_stat=clf.predict_proba(X_test)[:,0]\n",
    "        fpr, tpr, _ = roc_curve(Y_TEST,dec_stat,pos_label=0)\n",
    "        roc_auc = auc(fpr, tpr)\n",
    "        KNN_full_accuracy[j,i]=roc_auc\n",
    "    "
   ]
  },
  {
   "cell_type": "code",
   "execution_count": 382,
   "metadata": {
    "collapsed": false
   },
   "outputs": [
    {
     "data": {
      "text/plain": [
       "[<matplotlib.lines.Line2D at 0x7fc23f0e7860>]"
      ]
     },
     "execution_count": 382,
     "metadata": {},
     "output_type": "execute_result"
    },
    {
     "data": {
      "image/png": "[encoded data removed]",
      "text/plain": [
       "<matplotlib.figure.Figure at 0x7fc23ecca828>"
      ]
     },
     "metadata": {},
     "output_type": "display_data"
    }
   ],
   "source": [
    "plt.figure()\n",
    "plt.plot(150*(np.arange(20)+1),np.mean(KNN_full_accuracy,axis=0))"
   ]
  },
  {
   "cell_type": "markdown",
   "metadata": {
    "collapsed": true
   },
   "source": [
    "# 2. Using Random Forest"
   ]
  },
  {
   "cell_type": "markdown",
   "metadata": {},
   "source": [
    "## c. Full Information"
   ]
  },
  {
   "cell_type": "code",
   "execution_count": 259,
   "metadata": {
    "collapsed": true
   },
   "outputs": [],
   "source": [
    "from sklearn.ensemble import RandomForestClassifier"
   ]
  },
  {
   "cell_type": "code",
   "execution_count": 325,
   "metadata": {
    "collapsed": true
   },
   "outputs": [],
   "source": [
    "X_scaler=StandardScaler()\n",
    "X_scaler.fit(XX)\n",
    "XX_scaled=X_scaler.transform(XX)   \n",
    "X_TEST_scaled=X_scaler.transform(X_TEST)"
   ]
  },
  {
   "cell_type": "code",
   "execution_count": 261,
   "metadata": {
    "collapsed": false
   },
   "outputs": [],
   "source": [
    "skf = StratifiedKFold(n_splits=5)\n",
    "X=XX_scaled\n",
    "y=YY\n",
    "splits_training_auc =[]\n",
    "splits_test_auc =[]\n",
    "\n",
    "trees_settings=[50,75,100,125,150,175,200,225,250]\n",
    "depth_settings=range(2,7)\n",
    "train_auc_RF_F=np.zeros((5,9,5))\n",
    "test_auc_RF_F=np.zeros((5,9,5))\n",
    "i=0 #use i,j,k for indexting so that I can store auc value in corresponding position for each iteration \n",
    "for train_index, test_index in skf.split(X, y):\n",
    "    X_train, X_test = X[train_index], X[test_index]\n",
    "    y_train, y_test = y[train_index], y[test_index]    \n",
    "    j=0\n",
    "    for n_trees in trees_settings:   \n",
    "        k=0\n",
    "        for n_depth in depth_settings:\n",
    "        \n",
    "            # fit classifier\n",
    "            clf = RandomForestClassifier(n_estimators=n_trees, max_features=\"auto\",max_depth=n_depth,random_state=42)\n",
    "            clf.fit(X_train, y_train)\n",
    "\n",
    "\n",
    "            # training\n",
    "            dec_stat=clf.predict_proba(X_train)[:,0]\n",
    "            fpr, tpr, _ = roc_curve(y_train,dec_stat,pos_label=0)\n",
    "            roc_auc = auc(fpr, tpr)\n",
    "            train_auc_RF_F[i,j,k]=roc_auc\n",
    "            #training_auc.append(roc_auc)\n",
    "\n",
    "            # testing\n",
    "            dec_stat=clf.predict_proba(X_test)[:,0]\n",
    "            fpr, tpr, _ = roc_curve(y_test,dec_stat,pos_label=0)\n",
    "            roc_auc = auc(fpr, tpr)\n",
    "            test_auc_RF_F[i,j,k]=roc_auc\n",
    "            k=k+1\n",
    "        \n",
    "        j=j+1\n",
    "    i=i+1"
   ]
  },
  {
   "cell_type": "code",
   "execution_count": 263,
   "metadata": {
    "collapsed": false
   },
   "outputs": [
    {
     "name": "stdout",
     "output_type": "stream",
     "text": [
      "[ 0.99838826  0.99912049  0.99960748  0.99990807  0.99998628]\n",
      "[ 0.99823443  0.99870049  0.99886618  0.99901454  0.99910821]\n"
     ]
    }
   ],
   "source": [
    "#determine number of features to keep\n",
    "step1_train=np.mean(train_auc_RF_F,axis=0)#first average across cross-validation\n",
    "step2_train=np.mean(step1_train,axis=0)#now is depth\n",
    "print(step2_train)\n",
    "\n",
    "step1_test=np.mean(test_auc_RF_F,axis=0)#first average across cross-validation\n",
    "step2_test=np.mean(step1_test,axis=0)\n",
    "print(step2_test)"
   ]
  },
  {
   "cell_type": "code",
   "execution_count": 264,
   "metadata": {
    "collapsed": false
   },
   "outputs": [
    {
     "data": {
      "text/plain": [
       "<matplotlib.legend.Legend at 0x7fc23f69d400>"
      ]
     },
     "execution_count": 264,
     "metadata": {},
     "output_type": "execute_result"
    },
    {
     "data": {
      "image/png": "[encoded data removed]",
      "text/plain": [
       "<matplotlib.figure.Figure at 0x7fc23fbf6438>"
      ]
     },
     "metadata": {},
     "output_type": "display_data"
    }
   ],
   "source": [
    "fig=plt.figure()\n",
    "plt.plot(depth_settings, step2_train, label=\"training auc\")\n",
    "plt.plot(depth_settings, step2_test, label=\"test auc\")\n",
    "plt.ylabel(\"AUC\")\n",
    "plt.xlabel(\"depth\")\n",
    "plt.legend()"
   ]
  },
  {
   "cell_type": "markdown",
   "metadata": {},
   "source": [
    "6"
   ]
  },
  {
   "cell_type": "code",
   "execution_count": 267,
   "metadata": {
    "collapsed": false
   },
   "outputs": [
    {
     "name": "stdout",
     "output_type": "stream",
     "text": [
      "[ 0.99937374  0.99932361  0.999328    0.99939253  0.9994704   0.99945291\n",
      "  0.99944881  0.99940558  0.99942348]\n",
      "[ 0.99869261  0.99869712  0.9987283   0.99879147  0.9988649   0.99884849\n",
      "  0.99885177  0.99878901  0.99879927]\n"
     ]
    }
   ],
   "source": [
    "#determine number of features to keep\n",
    "step1_train=np.mean(train_auc_RF_F,axis=0)#first average across cross-validation\n",
    "step2_train=np.mean(step1_train,axis=1)#now is n_trees\n",
    "print(step2_train)\n",
    "\n",
    "step1_test=np.mean(test_auc_RF_F,axis=0)#first average across cross-validation\n",
    "step2_test=np.mean(step1_test,axis=1)\n",
    "print(step2_test)"
   ]
  },
  {
   "cell_type": "code",
   "execution_count": 266,
   "metadata": {
    "collapsed": false
   },
   "outputs": [
    {
     "data": {
      "text/plain": [
       "<matplotlib.legend.Legend at 0x7fc23f6130f0>"
      ]
     },
     "execution_count": 266,
     "metadata": {},
     "output_type": "execute_result"
    },
    {
     "data": {
      "image/png": "[encoded data removed]",
      "text/plain": [
       "<matplotlib.figure.Figure at 0x7fc23f6724a8>"
      ]
     },
     "metadata": {},
     "output_type": "display_data"
    }
   ],
   "source": [
    "fig=plt.figure()\n",
    "plt.plot(trees_settings, step2_train, label=\"training auc\")\n",
    "plt.plot(trees_settings, step2_test, label=\"test auc\")\n",
    "plt.ylabel(\"AUC\")\n",
    "plt.xlabel(\"number of trees\")\n",
    "plt.legend()"
   ]
  },
  {
   "cell_type": "code",
   "execution_count": 268,
   "metadata": {
    "collapsed": false
   },
   "outputs": [
    {
     "data": {
      "text/plain": [
       "4"
      ]
     },
     "execution_count": 268,
     "metadata": {},
     "output_type": "execute_result"
    }
   ],
   "source": [
    "np.argmax(step2_test)"
   ]
  },
  {
   "cell_type": "markdown",
   "metadata": {},
   "source": [
    "125"
   ]
  },
  {
   "cell_type": "code",
   "execution_count": 326,
   "metadata": {
    "collapsed": false
   },
   "outputs": [
    {
     "data": {
      "text/plain": [
       "RandomForestClassifier(bootstrap=True, class_weight=None, criterion='gini',\n",
       "            max_depth=6, max_features='auto', max_leaf_nodes=None,\n",
       "            min_impurity_split=1e-07, min_samples_leaf=1,\n",
       "            min_samples_split=2, min_weight_fraction_leaf=0.0,\n",
       "            n_estimators=125, n_jobs=1, oob_score=False, random_state=42,\n",
       "            verbose=0, warm_start=False)"
      ]
     },
     "execution_count": 326,
     "metadata": {},
     "output_type": "execute_result"
    }
   ],
   "source": [
    "clf = RandomForestClassifier(n_estimators=125, max_features=\"auto\",max_depth=6,random_state=42)\n",
    "clf.fit(XX_scaled, YY)"
   ]
  },
  {
   "cell_type": "code",
   "execution_count": 269,
   "metadata": {
    "collapsed": false
   },
   "outputs": [
    {
     "data": {
      "text/plain": [
       "0.99887936717205017"
      ]
     },
     "execution_count": 269,
     "metadata": {},
     "output_type": "execute_result"
    }
   ],
   "source": [
    "dec_stat=clf.predict_proba(X_TEST_scaled)[:,0]\n",
    "fpr, tpr, _ = roc_curve(Y_TEST,dec_stat,pos_label=0)\n",
    "roc_auc = auc(fpr, tpr)\n",
    "roc_auc"
   ]
  },
  {
   "cell_type": "code",
   "execution_count": 323,
   "metadata": {
    "collapsed": true
   },
   "outputs": [],
   "source": [
    "cols=data.columns.values[7:]"
   ]
  },
  {
   "cell_type": "code",
   "execution_count": 328,
   "metadata": {
    "collapsed": false
   },
   "outputs": [
    {
     "data": {
      "text/plain": [
       "array([ 0.00159512,  0.00216917,  0.00150185,  0.00218206,  0.00115783,\n",
       "        0.00084386,  0.00069238,  0.00079496,  0.001218  ,  0.00056269,\n",
       "        0.00116594,  0.00101161,  0.00110477,  0.00157176,  0.00090229,\n",
       "        0.00070018,  0.00077893,  0.00100883,  0.00069334,  0.00071305,\n",
       "        0.00413135,  0.01591749,  0.00300809,  0.01893544,  0.00107271,\n",
       "        0.00614813,  0.00952926,  0.01349708,  0.02525137,  0.00102255,\n",
       "        0.03545692,  0.06842159,  0.07331905,  0.07255473,  0.04629088,\n",
       "        0.01172529,  0.01692293,  0.02929847,  0.02733332,  0.09233363,\n",
       "        0.00050202,  0.00046664,  0.00054207,  0.00043644,  0.00079156,\n",
       "        0.00269645,  0.00171495,  0.00409907,  0.00892681,  0.00588193,\n",
       "        0.00185334,  0.00106477,  0.0031903 ,  0.00182463,  0.00107067,\n",
       "        0.26710353,  0.04510116,  0.05572807,  0.00048138,  0.00048746,\n",
       "        0.00057409,  0.00058559,  0.00033817])"
      ]
     },
     "execution_count": 328,
     "metadata": {},
     "output_type": "execute_result"
    }
   ],
   "source": [
    "clf.feature_importances_"
   ]
  },
  {
   "cell_type": "code",
   "execution_count": 329,
   "metadata": {
    "collapsed": false
   },
   "outputs": [
    {
     "data": {
      "text/plain": [
       "array([62, 43, 41, 58, 59, 40, 42,  9, 60, 61,  6, 18, 15, 19, 16, 44,  7,\n",
       "        5, 14, 17, 11, 29, 51, 54, 24, 12,  4, 10,  8,  2, 13,  0, 46, 53,\n",
       "       50,  1,  3, 45, 22, 52, 47, 20, 49, 25, 48, 26, 35, 27, 21, 36, 23,\n",
       "       28, 38, 37, 30, 56, 34, 57, 31, 33, 32, 39, 55])"
      ]
     },
     "execution_count": 329,
     "metadata": {},
     "output_type": "execute_result"
    }
   ],
   "source": [
    "indices"
   ]
  },
  {
   "cell_type": "code",
   "execution_count": 327,
   "metadata": {
    "collapsed": false
   },
   "outputs": [
    {
     "data": {
      "text/plain": [
       "array(['Rank_Sup', 'Vision_A', 'Vision_J', 'Rank_Top', 'Rank_Jg',\n",
       "       'Vision_T', 'Vision_M', 'CS10Dif_Sup', 'Rank_Mid', 'Rank_ADC',\n",
       "       'CS10Dif_Jg', 'DmgTaken10_ADC', 'DmgTaken10_Top', 'DmgTaken10_Sup',\n",
       "       'DmgTaken10_Jg', 'Vision_S', 'CS10Dif_Mid', 'CS10Dif_Top',\n",
       "       'Exp10Dif_Sup', 'DmgTaken10_Mid', 'Exp10Dif_Jg', 'Kills_S', 'CS_J',\n",
       "       'CS_S', 'Dmg_Sup', 'Exp10Dif_Mid', 'Gold10Dif_Sup', 'Exp10Dif_Top',\n",
       "       'CS10Dif_ADC', 'Gold10Dif_Mid', 'Exp10Dif_ADC', 'Gold10Dif_Top',\n",
       "       'DmgTaken_J', 'CS_A', 'CS_T', 'Gold10Dif_Jg', 'Gold10Dif_ADC',\n",
       "       'DmgTaken_T', 'Dmg_Mid', 'CS_M', 'DmgTaken_M', 'Dmg_Top',\n",
       "       'DmgTaken_S', 'Kills_T', 'DmgTaken_A', 'Kills_J', 'Assists_T',\n",
       "       'Kills_M', 'Dmg_Jg', 'Assists_J', 'Dmg_ADC', 'Kills_A', 'Assists_A',\n",
       "       'Assists_M', 'Deaths_T', 'Drags', 'Deaths_S', 'Baron', 'Deaths_J',\n",
       "       'Deaths_A', 'Deaths_M', 'Assists_S', 'TowerDif'], dtype=object)"
      ]
     },
     "execution_count": 327,
     "metadata": {},
     "output_type": "execute_result"
    }
   ],
   "source": [
    "importance = clf.feature_importances_\n",
    "\n",
    "indices = np.argsort(importance)\n",
    "\n",
    "cols[indices]"
   ]
  },
  {
   "cell_type": "markdown",
   "metadata": {},
   "source": [
    "## b. 10-minute "
   ]
  },
  {
   "cell_type": "code",
   "execution_count": 219,
   "metadata": {
    "collapsed": true
   },
   "outputs": [],
   "source": [
    "XX_10=XX[:,list(range(0,20))+list(range(58,63))]\n",
    "X_TEST_10=X_TEST[:,list(range(0,20))+list(range(58,63))]"
   ]
  },
  {
   "cell_type": "code",
   "execution_count": 331,
   "metadata": {
    "collapsed": true
   },
   "outputs": [],
   "source": [
    "X_scaler=StandardScaler()\n",
    "X_scaler.fit(XX_10)\n",
    "XX_scaled=X_scaler.transform(XX_10)   \n",
    "X_TEST_scaled=X_scaler.transform(X_TEST_10)"
   ]
  },
  {
   "cell_type": "code",
   "execution_count": 176,
   "metadata": {
    "collapsed": false
   },
   "outputs": [
    {
     "data": {
      "text/plain": [
       "(3140, 25)"
      ]
     },
     "execution_count": 176,
     "metadata": {},
     "output_type": "execute_result"
    }
   ],
   "source": [
    "XX_10.shape"
   ]
  },
  {
   "cell_type": "code",
   "execution_count": 235,
   "metadata": {
    "collapsed": true
   },
   "outputs": [],
   "source": [
    "skf = StratifiedKFold(n_splits=5)\n",
    "X=XX_scaled\n",
    "y=YY\n",
    "splits_training_auc =[]\n",
    "splits_test_auc =[]\n",
    "\n",
    "trees_settings=[50,75,100,125,150,175,200,225,250]\n",
    "depth_settings=range(2,7)\n",
    "train_auc_RF=np.zeros((5,9,5))\n",
    "test_auc_RF=np.zeros((5,9,5))\n",
    "i=0 #use i,j,k for indexting so that I can store auc value in corresponding position for each iteration \n",
    "for train_index, test_index in skf.split(X, y):\n",
    "    X_train, X_test = X[train_index], X[test_index]\n",
    "    y_train, y_test = y[train_index], y[test_index]    \n",
    "    j=0\n",
    "    for n_trees in trees_settings:   \n",
    "        k=0\n",
    "        for n_depth in depth_settings:\n",
    "        \n",
    "            # fit classifier\n",
    "            clf = RandomForestClassifier(n_estimators=n_trees, max_features=\"auto\",max_depth=n_depth,random_state=42)\n",
    "            clf.fit(X_train, y_train)\n",
    "\n",
    "\n",
    "            # training\n",
    "            dec_stat=clf.predict_proba(X_train)[:,0]\n",
    "            fpr, tpr, _ = roc_curve(y_train,dec_stat,pos_label=0)\n",
    "            roc_auc = auc(fpr, tpr)\n",
    "            train_auc_RF[i,j,k]=roc_auc\n",
    "            #training_auc.append(roc_auc)\n",
    "\n",
    "            # testing\n",
    "            dec_stat=clf.predict_proba(X_test)[:,0]\n",
    "            fpr, tpr, _ = roc_curve(y_test,dec_stat,pos_label=0)\n",
    "            roc_auc = auc(fpr, tpr)\n",
    "            test_auc_RF[i,j,k]=roc_auc\n",
    "            k=k+1\n",
    "        \n",
    "        j=j+1\n",
    "    i=i+1"
   ]
  },
  {
   "cell_type": "code",
   "execution_count": 240,
   "metadata": {
    "collapsed": false
   },
   "outputs": [
    {
     "name": "stdout",
     "output_type": "stream",
     "text": [
      "[ 0.79249976  0.81170552  0.83620035  0.86815942  0.90549347]\n",
      "[ 0.77333684  0.77977365  0.78437309  0.78662113  0.78915337]\n"
     ]
    }
   ],
   "source": [
    "#determine number of features to keep\n",
    "step1_train=np.mean(train_auc_RF,axis=0)#first average across cross-validation\n",
    "step2_train=np.mean(step1_train,axis=0)#now is depth\n",
    "print(step2_train)\n",
    "\n",
    "step1_test=np.mean(test_auc_RF,axis=0)#first average across cross-validation\n",
    "step2_test=np.mean(step1_test,axis=0)\n",
    "print(step2_test)"
   ]
  },
  {
   "cell_type": "code",
   "execution_count": 242,
   "metadata": {
    "collapsed": false
   },
   "outputs": [
    {
     "data": {
      "text/plain": [
       "<matplotlib.legend.Legend at 0x7fc23f9396d8>"
      ]
     },
     "execution_count": 242,
     "metadata": {},
     "output_type": "execute_result"
    },
    {
     "data": {
      "image/png": "[encoded data removed]",
      "text/plain": [
       "<matplotlib.figure.Figure at 0x7fc23f972a90>"
      ]
     },
     "metadata": {},
     "output_type": "display_data"
    }
   ],
   "source": [
    "fig=plt.figure()\n",
    "plt.plot(depth_settings, step2_train, label=\"training auc\")\n",
    "plt.plot(depth_settings, step2_test, label=\"test auc\")\n",
    "plt.ylabel(\"AUC\")\n",
    "plt.xlabel(\"depth\")\n",
    "plt.legend()"
   ]
  },
  {
   "cell_type": "markdown",
   "metadata": {},
   "source": [
    "n=7."
   ]
  },
  {
   "cell_type": "code",
   "execution_count": 243,
   "metadata": {
    "collapsed": false
   },
   "outputs": [
    {
     "name": "stdout",
     "output_type": "stream",
     "text": [
      "[ 0.84114969  0.84166774  0.84238648  0.84305524  0.84327846  0.84316881\n",
      "  0.84346446  0.84359581  0.84353866]\n",
      "[ 0.78047299  0.78181156  0.78251285  0.78306357  0.78303137  0.78319116\n",
      "  0.78315424  0.78331792  0.78330889]\n"
     ]
    }
   ],
   "source": [
    "#determine number of features to keep\n",
    "step1_train=np.mean(train_auc_RF,axis=0)#first average across cross-validation\n",
    "step2_train=np.mean(step1_train,axis=1)#now is n_trees\n",
    "print(step2_train)\n",
    "\n",
    "step1_test=np.mean(test_auc_RF,axis=0)#first average across cross-validation\n",
    "step2_test=np.mean(step1_test,axis=1)\n",
    "print(step2_test)"
   ]
  },
  {
   "cell_type": "code",
   "execution_count": 245,
   "metadata": {
    "collapsed": false
   },
   "outputs": [
    {
     "data": {
      "text/plain": [
       "<matplotlib.legend.Legend at 0x7fc23f8adb38>"
      ]
     },
     "execution_count": 245,
     "metadata": {},
     "output_type": "execute_result"
    },
    {
     "data": {
      "image/png": "[encoded data removed]",
      "text/plain": [
       "<matplotlib.figure.Figure at 0x7fc240b533c8>"
      ]
     },
     "metadata": {},
     "output_type": "display_data"
    }
   ],
   "source": [
    "fig=plt.figure()\n",
    "plt.plot(trees_settings, step2_train, label=\"training auc\")\n",
    "plt.plot(trees_settings, step2_test, label=\"test auc\")\n",
    "plt.ylabel(\"AUC\")\n",
    "plt.xlabel(\"number of trees\")\n",
    "plt.legend()"
   ]
  },
  {
   "cell_type": "markdown",
   "metadata": {},
   "source": [
    "reaches maximum at 125. for model simplicity, just use 125."
   ]
  },
  {
   "cell_type": "code",
   "execution_count": 332,
   "metadata": {
    "collapsed": false
   },
   "outputs": [
    {
     "data": {
      "text/plain": [
       "0.78029004614370479"
      ]
     },
     "execution_count": 332,
     "metadata": {},
     "output_type": "execute_result"
    }
   ],
   "source": [
    "clf = RandomForestClassifier(n_estimators=130, max_features=\"auto\",max_depth=8,random_state=42)\n",
    "clf.fit(XX_scaled, YY)\n",
    "\n",
    "dec_stat=clf.predict_proba(X_TEST_scaled)[:,0]\n",
    "fpr, tpr, _ = roc_curve(Y_TEST,dec_stat,pos_label=0)\n",
    "roc_auc = auc(fpr, tpr)\n",
    "roc_auc"
   ]
  },
  {
   "cell_type": "code",
   "execution_count": 333,
   "metadata": {
    "collapsed": false
   },
   "outputs": [
    {
     "data": {
      "text/plain": [
       "array([ 0.07714533,  0.11171752,  0.11780101,  0.10754643,  0.07333027,\n",
       "        0.02310435,  0.01748072,  0.02831164,  0.02592376,  0.02668292,\n",
       "        0.0303227 ,  0.03847894,  0.04580532,  0.0422453 ,  0.04616092,\n",
       "        0.023708  ,  0.02469367,  0.02357288,  0.02509911,  0.02708133,\n",
       "        0.01257391,  0.01262422,  0.01347757,  0.01289262,  0.01221956])"
      ]
     },
     "execution_count": 333,
     "metadata": {},
     "output_type": "execute_result"
    }
   ],
   "source": [
    "clf.feature_importances_"
   ]
  },
  {
   "cell_type": "code",
   "execution_count": 334,
   "metadata": {
    "collapsed": false
   },
   "outputs": [],
   "source": [
    "cols=data.columns.values[list(range(7,27))+list(range(65,70))]"
   ]
  },
  {
   "cell_type": "code",
   "execution_count": 335,
   "metadata": {
    "collapsed": false
   },
   "outputs": [
    {
     "data": {
      "text/plain": [
       "array(['Gold10Dif_Top', 'Gold10Dif_Jg', 'Gold10Dif_Mid', 'Gold10Dif_ADC',\n",
       "       'Gold10Dif_Sup', 'CS10Dif_Top', 'CS10Dif_Jg', 'CS10Dif_Mid',\n",
       "       'CS10Dif_ADC', 'CS10Dif_Sup', 'Exp10Dif_Top', 'Exp10Dif_Jg',\n",
       "       'Exp10Dif_Mid', 'Exp10Dif_ADC', 'Exp10Dif_Sup', 'DmgTaken10_Top',\n",
       "       'DmgTaken10_Jg', 'DmgTaken10_Mid', 'DmgTaken10_ADC',\n",
       "       'DmgTaken10_Sup', 'Rank_Top', 'Rank_Jg', 'Rank_Mid', 'Rank_ADC',\n",
       "       'Rank_Sup'], dtype=object)"
      ]
     },
     "execution_count": 335,
     "metadata": {},
     "output_type": "execute_result"
    }
   ],
   "source": [
    "cols"
   ]
  },
  {
   "cell_type": "code",
   "execution_count": 336,
   "metadata": {
    "collapsed": false
   },
   "outputs": [
    {
     "data": {
      "text/plain": [
       "array(['Rank_Sup', 'Rank_Top', 'Rank_Jg', 'Rank_ADC', 'Rank_Mid',\n",
       "       'CS10Dif_Jg', 'CS10Dif_Top', 'DmgTaken10_Mid', 'DmgTaken10_Top',\n",
       "       'DmgTaken10_Jg', 'DmgTaken10_ADC', 'CS10Dif_ADC', 'CS10Dif_Sup',\n",
       "       'DmgTaken10_Sup', 'CS10Dif_Mid', 'Exp10Dif_Top', 'Exp10Dif_Jg',\n",
       "       'Exp10Dif_ADC', 'Exp10Dif_Mid', 'Exp10Dif_Sup', 'Gold10Dif_Sup',\n",
       "       'Gold10Dif_Top', 'Gold10Dif_ADC', 'Gold10Dif_Jg', 'Gold10Dif_Mid'], dtype=object)"
      ]
     },
     "execution_count": 336,
     "metadata": {},
     "output_type": "execute_result"
    }
   ],
   "source": [
    "importance = clf.feature_importances_\n",
    "\n",
    "indices = np.argsort(importance)\n",
    "\n",
    "cols[indices]"
   ]
  },
  {
   "cell_type": "code",
   "execution_count": 337,
   "metadata": {
    "collapsed": false
   },
   "outputs": [
    {
     "data": {
      "text/plain": [
       "array([ 0.01221956,  0.01257391,  0.01262422,  0.01289262,  0.01347757,\n",
       "        0.01748072,  0.02310435,  0.02357288,  0.023708  ,  0.02469367,\n",
       "        0.02509911,  0.02592376,  0.02668292,  0.02708133,  0.02831164,\n",
       "        0.0303227 ,  0.03847894,  0.0422453 ,  0.04580532,  0.04616092,\n",
       "        0.07333027,  0.07714533,  0.10754643,  0.11171752,  0.11780101])"
      ]
     },
     "execution_count": 337,
     "metadata": {},
     "output_type": "execute_result"
    }
   ],
   "source": [
    "importance[indices]"
   ]
  },
  {
   "cell_type": "code",
   "execution_count": 360,
   "metadata": {
    "collapsed": true
   },
   "outputs": [],
   "source": [
    "import random\n",
    "ind=random.sample(range(0,len(XX)), 300*(i+1))\n",
    "RF_10_accuracy=np.zeros(20)"
   ]
  },
  {
   "cell_type": "code",
   "execution_count": 361,
   "metadata": {
    "collapsed": true
   },
   "outputs": [],
   "source": [
    "XX_10=XX[:,list(range(0,20))+list(range(58,63))]\n",
    "X_TEST_10=X_TEST[:,list(range(0,20))+list(range(58,63))]\n",
    "\n",
    "X_scaler=StandardScaler()\n",
    "X_scaler.fit(XX_10)\n",
    "XX_10_scaled=X_scaler.transform(XX_10)   \n",
    "X_TEST_10_scaled=X_scaler.transform(X_TEST_10)"
   ]
  },
  {
   "cell_type": "code",
   "execution_count": 366,
   "metadata": {
    "collapsed": false
   },
   "outputs": [],
   "source": [
    "for i in range(20):\n",
    "    ind=random.sample(range(0,len(XX)), 150*(i+1))\n",
    "    \n",
    "    XX_10_ind=XX_10_scaled[ind]\n",
    "    YY_ind=YY[ind]\n",
    "    \n",
    "    clf = RandomForestClassifier(n_estimators=130, max_features=\"auto\",max_depth=8,random_state=42)\n",
    "    clf.fit(XX_10_ind, YY_ind)\n",
    "\n",
    "    dec_stat=clf.predict_proba(X_TEST_scaled)[:,0]\n",
    "    fpr, tpr, _ = roc_curve(Y_TEST,dec_stat,pos_label=0)\n",
    "    roc_auc = auc(fpr, tpr)\n",
    "    RF_10_accuracy[i]=roc_auc\n",
    "    "
   ]
  },
  {
   "cell_type": "code",
   "execution_count": 367,
   "metadata": {
    "collapsed": false
   },
   "outputs": [
    {
     "data": {
      "text/plain": [
       "[<matplotlib.lines.Line2D at 0x7fc23ed42710>]"
      ]
     },
     "execution_count": 367,
     "metadata": {},
     "output_type": "execute_result"
    },
    {
     "data": {
      "image/png": "[encoded data removed]",
      "text/plain": [
       "<matplotlib.figure.Figure at 0x7fc23edb35f8>"
      ]
     },
     "metadata": {},
     "output_type": "display_data"
    }
   ],
   "source": [
    "plt.figure()\n",
    "plt.plot(150*(np.arange(20)+1),RF_10_accuracy)"
   ]
  },
  {
   "cell_type": "markdown",
   "metadata": {
    "collapsed": true
   },
   "source": [
    "## a. Prematch"
   ]
  },
  {
   "cell_type": "code",
   "execution_count": 214,
   "metadata": {
    "collapsed": true
   },
   "outputs": [],
   "source": [
    "X_scaler=StandardScaler()\n",
    "X_scaler.fit(XX_Prematch)\n",
    "XX_pre_scaled=X_scaler.transform(XX_Prematch)   \n",
    "X_TEST_pre_scaled=X_scaler.transform(X_TEST_Prematch)"
   ]
  },
  {
   "cell_type": "code",
   "execution_count": 248,
   "metadata": {
    "collapsed": true
   },
   "outputs": [],
   "source": [
    "skf = StratifiedKFold(n_splits=5)\n",
    "X=XX_pre_scaled\n",
    "y=YY\n",
    "splits_training_auc =[]\n",
    "splits_test_auc =[]\n",
    "\n",
    "trees_settings=[50,75,100,125,150,175,200,225,250]\n",
    "depth_settings=range(2,7)\n",
    "train_auc_RF_pre=np.zeros((5,9,5))\n",
    "test_auc_RF_pre=np.zeros((5,9,5))\n",
    "i=0 #use i,j,k for indexting so that I can store auc value in corresponding position for each iteration \n",
    "for train_index, test_index in skf.split(X, y):\n",
    "    X_train, X_test = X[train_index], X[test_index]\n",
    "    y_train, y_test = y[train_index], y[test_index]    \n",
    "    j=0\n",
    "    for n_trees in trees_settings:   \n",
    "        k=0\n",
    "        for n_depth in depth_settings:\n",
    "        \n",
    "            # fit classifier\n",
    "            clf = RandomForestClassifier(n_estimators=n_trees, max_features=\"auto\",max_depth=n_depth,random_state=42)\n",
    "            clf.fit(X_train, y_train)\n",
    "\n",
    "\n",
    "            # training\n",
    "            dec_stat=clf.predict_proba(X_train)[:,0]\n",
    "            fpr, tpr, _ = roc_curve(y_train,dec_stat,pos_label=0)\n",
    "            roc_auc = auc(fpr, tpr)\n",
    "            train_auc_RF_pre[i,j,k]=roc_auc\n",
    "            #training_auc.append(roc_auc)\n",
    "\n",
    "            # testing\n",
    "            dec_stat=clf.predict_proba(X_test)[:,0]\n",
    "            fpr, tpr, _ = roc_curve(y_test,dec_stat,pos_label=0)\n",
    "            roc_auc = auc(fpr, tpr)\n",
    "            test_auc_RF_pre[i,j,k]=roc_auc\n",
    "            k=k+1\n",
    "        \n",
    "        j=j+1\n",
    "    i=i+1"
   ]
  },
  {
   "cell_type": "code",
   "execution_count": 253,
   "metadata": {
    "collapsed": false
   },
   "outputs": [
    {
     "name": "stdout",
     "output_type": "stream",
     "text": [
      "[ 0.6148175   0.64340765  0.68185488  0.72618957  0.77909242]\n",
      "[ 0.56745453  0.5666939   0.56774032  0.57158688  0.57511871]\n"
     ]
    }
   ],
   "source": [
    "#determine number of features to keep\n",
    "step1_train=np.mean(train_auc_RF_pre,axis=0)#first average across cross-validation\n",
    "step2_train=np.mean(step1_train,axis=0)#now is depth\n",
    "print(step2_train)\n",
    "\n",
    "step1_test=np.mean(test_auc_RF_pre,axis=0)#first average across cross-validation\n",
    "step2_test=np.mean(step1_test,axis=0)\n",
    "print(step2_test)"
   ]
  },
  {
   "cell_type": "code",
   "execution_count": 254,
   "metadata": {
    "collapsed": false
   },
   "outputs": [
    {
     "data": {
      "text/plain": [
       "<matplotlib.legend.Legend at 0x7fc23f80b240>"
      ]
     },
     "execution_count": 254,
     "metadata": {},
     "output_type": "execute_result"
    },
    {
     "data": {
      "image/png": "[encoded data removed]",
      "text/plain": [
       "<matplotlib.figure.Figure at 0x7fc240c7ff60>"
      ]
     },
     "metadata": {},
     "output_type": "display_data"
    }
   ],
   "source": [
    "fig=plt.figure()\n",
    "plt.plot(depth_settings, step2_train, label=\"training auc\")\n",
    "plt.plot(depth_settings, step2_test, label=\"test auc\")\n",
    "plt.ylabel(\"AUC\")\n",
    "plt.xlabel(\"depth\")\n",
    "plt.legend()"
   ]
  },
  {
   "cell_type": "code",
   "execution_count": 255,
   "metadata": {
    "collapsed": false
   },
   "outputs": [
    {
     "name": "stdout",
     "output_type": "stream",
     "text": [
      "[ 0.6839832   0.68641239  0.68700809  0.68836271  0.69008251  0.69068613\n",
      "  0.6913543   0.69183997  0.69192236]\n",
      "[ 0.57029075  0.57073277  0.57071082  0.57066077  0.56985775  0.56907402\n",
      "  0.56891444  0.56857026  0.56865825]\n"
     ]
    }
   ],
   "source": [
    "#determine number of features to keep\n",
    "step1_train=np.mean(train_auc_RF_pre,axis=0)#first average across cross-validation\n",
    "step2_train=np.mean(step1_train,axis=1)#now is depth\n",
    "print(step2_train)\n",
    "\n",
    "step1_test=np.mean(test_auc_RF_pre,axis=0)#first average across cross-validation\n",
    "step2_test=np.mean(step1_test,axis=1)\n",
    "print(step2_test)"
   ]
  },
  {
   "cell_type": "code",
   "execution_count": 257,
   "metadata": {
    "collapsed": false
   },
   "outputs": [
    {
     "data": {
      "text/plain": [
       "<matplotlib.legend.Legend at 0x7fc23f759940>"
      ]
     },
     "execution_count": 257,
     "metadata": {},
     "output_type": "execute_result"
    },
    {
     "data": {
      "image/png": "[encoded data removed]",
      "text/plain": [
       "<matplotlib.figure.Figure at 0x7fc23f7ca748>"
      ]
     },
     "metadata": {},
     "output_type": "display_data"
    }
   ],
   "source": [
    "fig=plt.figure()\n",
    "plt.plot(trees_settings, step2_train, label=\"training auc\")\n",
    "plt.plot(trees_settings, step2_test, label=\"test auc\")\n",
    "plt.ylabel(\"AUC\")\n",
    "plt.xlabel(\"trees\")\n",
    "plt.legend()"
   ]
  },
  {
   "cell_type": "code",
   "execution_count": 208,
   "metadata": {
    "collapsed": false
   },
   "outputs": [
    {
     "data": {
      "text/plain": [
       "0.53403098220171397"
      ]
     },
     "execution_count": 208,
     "metadata": {},
     "output_type": "execute_result"
    }
   ],
   "source": [
    "clf = RandomForestClassifier(n_jobs=8, random_state=42)\n",
    "clf.fit(XX_pre_scaled, YY)\n",
    "\n",
    "dec_stat=clf.predict_proba(X_TEST_pre_scaled)[:,0]\n",
    "fpr, tpr, _ = roc_curve(Y_TEST,dec_stat,pos_label=0)\n",
    "roc_auc = auc(fpr, tpr)\n",
    "roc_auc"
   ]
  },
  {
   "cell_type": "code",
   "execution_count": null,
   "metadata": {
    "collapsed": true
   },
   "outputs": [],
   "source": []
  }
 ],
 "metadata": {
  "kernelspec": {
   "display_name": "Python 3",
   "language": "python",
   "name": "python3"
  },
  "language_info": {
   "codemirror_mode": {
    "name": "ipython",
    "version": 3
   },
   "file_extension": ".py",
   "mimetype": "text/x-python",
   "name": "python",
   "nbconvert_exporter": "python",
   "pygments_lexer": "ipython3",
   "version": "3.5.2"
  }
 },
 "nbformat": 4,
 "nbformat_minor": 2
}
